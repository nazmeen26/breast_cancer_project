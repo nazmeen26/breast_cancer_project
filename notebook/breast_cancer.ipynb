{
 "cells": [
  {
   "cell_type": "code",
   "execution_count": 1,
   "metadata": {},
   "outputs": [],
   "source": [
    "import pandas as pd\n",
    "import numpy as np\n",
    "import matplotlib.pyplot as plt\n",
    "import seaborn as sns\n",
    "%matplotlib inline"
   ]
  },
  {
   "cell_type": "code",
   "execution_count": 2,
   "metadata": {},
   "outputs": [],
   "source": [
    "df=pd.read_csv(\"Breast Cancer METABRIC.csv\")"
   ]
  },
  {
   "cell_type": "code",
   "execution_count": 3,
   "metadata": {},
   "outputs": [
    {
     "data": {
      "text/html": [
       "<div>\n",
       "<style scoped>\n",
       "    .dataframe tbody tr th:only-of-type {\n",
       "        vertical-align: middle;\n",
       "    }\n",
       "\n",
       "    .dataframe tbody tr th {\n",
       "        vertical-align: top;\n",
       "    }\n",
       "\n",
       "    .dataframe thead th {\n",
       "        text-align: right;\n",
       "    }\n",
       "</style>\n",
       "<table border=\"1\" class=\"dataframe\">\n",
       "  <thead>\n",
       "    <tr style=\"text-align: right;\">\n",
       "      <th></th>\n",
       "      <th>Patient ID</th>\n",
       "      <th>Age at Diagnosis</th>\n",
       "      <th>Type of Breast Surgery</th>\n",
       "      <th>Cancer Type</th>\n",
       "      <th>Cancer Type Detailed</th>\n",
       "      <th>Cellularity</th>\n",
       "      <th>Chemotherapy</th>\n",
       "      <th>Pam50 + Claudin-low subtype</th>\n",
       "      <th>Cohort</th>\n",
       "      <th>ER status measured by IHC</th>\n",
       "      <th>...</th>\n",
       "      <th>Overall Survival Status</th>\n",
       "      <th>PR Status</th>\n",
       "      <th>Radio Therapy</th>\n",
       "      <th>Relapse Free Status (Months)</th>\n",
       "      <th>Relapse Free Status</th>\n",
       "      <th>Sex</th>\n",
       "      <th>3-Gene classifier subtype</th>\n",
       "      <th>Tumor Size</th>\n",
       "      <th>Tumor Stage</th>\n",
       "      <th>Patient's Vital Status</th>\n",
       "    </tr>\n",
       "  </thead>\n",
       "  <tbody>\n",
       "    <tr>\n",
       "      <th>0</th>\n",
       "      <td>MB-0000</td>\n",
       "      <td>75.65</td>\n",
       "      <td>Mastectomy</td>\n",
       "      <td>Breast Cancer</td>\n",
       "      <td>Breast Invasive Ductal Carcinoma</td>\n",
       "      <td>NaN</td>\n",
       "      <td>No</td>\n",
       "      <td>claudin-low</td>\n",
       "      <td>1.0</td>\n",
       "      <td>Positve</td>\n",
       "      <td>...</td>\n",
       "      <td>Living</td>\n",
       "      <td>Negative</td>\n",
       "      <td>Yes</td>\n",
       "      <td>138.65</td>\n",
       "      <td>Not Recurred</td>\n",
       "      <td>Female</td>\n",
       "      <td>ER-/HER2-</td>\n",
       "      <td>22.0</td>\n",
       "      <td>2.0</td>\n",
       "      <td>Living</td>\n",
       "    </tr>\n",
       "    <tr>\n",
       "      <th>1</th>\n",
       "      <td>MB-0002</td>\n",
       "      <td>43.19</td>\n",
       "      <td>Breast Conserving</td>\n",
       "      <td>Breast Cancer</td>\n",
       "      <td>Breast Invasive Ductal Carcinoma</td>\n",
       "      <td>High</td>\n",
       "      <td>No</td>\n",
       "      <td>LumA</td>\n",
       "      <td>1.0</td>\n",
       "      <td>Positve</td>\n",
       "      <td>...</td>\n",
       "      <td>Living</td>\n",
       "      <td>Positive</td>\n",
       "      <td>Yes</td>\n",
       "      <td>83.52</td>\n",
       "      <td>Not Recurred</td>\n",
       "      <td>Female</td>\n",
       "      <td>ER+/HER2- High Prolif</td>\n",
       "      <td>10.0</td>\n",
       "      <td>1.0</td>\n",
       "      <td>Living</td>\n",
       "    </tr>\n",
       "    <tr>\n",
       "      <th>2</th>\n",
       "      <td>MB-0005</td>\n",
       "      <td>48.87</td>\n",
       "      <td>Mastectomy</td>\n",
       "      <td>Breast Cancer</td>\n",
       "      <td>Breast Invasive Ductal Carcinoma</td>\n",
       "      <td>High</td>\n",
       "      <td>Yes</td>\n",
       "      <td>LumB</td>\n",
       "      <td>1.0</td>\n",
       "      <td>Positve</td>\n",
       "      <td>...</td>\n",
       "      <td>Deceased</td>\n",
       "      <td>Positive</td>\n",
       "      <td>No</td>\n",
       "      <td>151.28</td>\n",
       "      <td>Recurred</td>\n",
       "      <td>Female</td>\n",
       "      <td>NaN</td>\n",
       "      <td>15.0</td>\n",
       "      <td>2.0</td>\n",
       "      <td>Died of Disease</td>\n",
       "    </tr>\n",
       "    <tr>\n",
       "      <th>3</th>\n",
       "      <td>MB-0006</td>\n",
       "      <td>47.68</td>\n",
       "      <td>Mastectomy</td>\n",
       "      <td>Breast Cancer</td>\n",
       "      <td>Breast Mixed Ductal and Lobular Carcinoma</td>\n",
       "      <td>Moderate</td>\n",
       "      <td>Yes</td>\n",
       "      <td>LumB</td>\n",
       "      <td>1.0</td>\n",
       "      <td>Positve</td>\n",
       "      <td>...</td>\n",
       "      <td>Living</td>\n",
       "      <td>Positive</td>\n",
       "      <td>Yes</td>\n",
       "      <td>162.76</td>\n",
       "      <td>Not Recurred</td>\n",
       "      <td>Female</td>\n",
       "      <td>NaN</td>\n",
       "      <td>25.0</td>\n",
       "      <td>2.0</td>\n",
       "      <td>Living</td>\n",
       "    </tr>\n",
       "    <tr>\n",
       "      <th>4</th>\n",
       "      <td>MB-0008</td>\n",
       "      <td>76.97</td>\n",
       "      <td>Mastectomy</td>\n",
       "      <td>Breast Cancer</td>\n",
       "      <td>Breast Mixed Ductal and Lobular Carcinoma</td>\n",
       "      <td>High</td>\n",
       "      <td>Yes</td>\n",
       "      <td>LumB</td>\n",
       "      <td>1.0</td>\n",
       "      <td>Positve</td>\n",
       "      <td>...</td>\n",
       "      <td>Deceased</td>\n",
       "      <td>Positive</td>\n",
       "      <td>Yes</td>\n",
       "      <td>18.55</td>\n",
       "      <td>Recurred</td>\n",
       "      <td>Female</td>\n",
       "      <td>ER+/HER2- High Prolif</td>\n",
       "      <td>40.0</td>\n",
       "      <td>2.0</td>\n",
       "      <td>Died of Disease</td>\n",
       "    </tr>\n",
       "  </tbody>\n",
       "</table>\n",
       "<p>5 rows × 34 columns</p>\n",
       "</div>"
      ],
      "text/plain": [
       "  Patient ID  Age at Diagnosis Type of Breast Surgery    Cancer Type  \\\n",
       "0    MB-0000             75.65             Mastectomy  Breast Cancer   \n",
       "1    MB-0002             43.19      Breast Conserving  Breast Cancer   \n",
       "2    MB-0005             48.87             Mastectomy  Breast Cancer   \n",
       "3    MB-0006             47.68             Mastectomy  Breast Cancer   \n",
       "4    MB-0008             76.97             Mastectomy  Breast Cancer   \n",
       "\n",
       "                        Cancer Type Detailed Cellularity Chemotherapy  \\\n",
       "0           Breast Invasive Ductal Carcinoma         NaN           No   \n",
       "1           Breast Invasive Ductal Carcinoma        High           No   \n",
       "2           Breast Invasive Ductal Carcinoma        High          Yes   \n",
       "3  Breast Mixed Ductal and Lobular Carcinoma    Moderate          Yes   \n",
       "4  Breast Mixed Ductal and Lobular Carcinoma        High          Yes   \n",
       "\n",
       "  Pam50 + Claudin-low subtype  Cohort ER status measured by IHC  ...  \\\n",
       "0                 claudin-low     1.0                   Positve  ...   \n",
       "1                        LumA     1.0                   Positve  ...   \n",
       "2                        LumB     1.0                   Positve  ...   \n",
       "3                        LumB     1.0                   Positve  ...   \n",
       "4                        LumB     1.0                   Positve  ...   \n",
       "\n",
       "  Overall Survival Status  PR Status Radio Therapy  \\\n",
       "0                  Living   Negative           Yes   \n",
       "1                  Living   Positive           Yes   \n",
       "2                Deceased   Positive            No   \n",
       "3                  Living   Positive           Yes   \n",
       "4                Deceased   Positive           Yes   \n",
       "\n",
       "  Relapse Free Status (Months) Relapse Free Status     Sex  \\\n",
       "0                       138.65        Not Recurred  Female   \n",
       "1                        83.52        Not Recurred  Female   \n",
       "2                       151.28            Recurred  Female   \n",
       "3                       162.76        Not Recurred  Female   \n",
       "4                        18.55            Recurred  Female   \n",
       "\n",
       "  3-Gene classifier subtype Tumor Size Tumor Stage  Patient's Vital Status  \n",
       "0                 ER-/HER2-       22.0         2.0                  Living  \n",
       "1     ER+/HER2- High Prolif       10.0         1.0                  Living  \n",
       "2                       NaN       15.0         2.0         Died of Disease  \n",
       "3                       NaN       25.0         2.0                  Living  \n",
       "4     ER+/HER2- High Prolif       40.0         2.0         Died of Disease  \n",
       "\n",
       "[5 rows x 34 columns]"
      ]
     },
     "execution_count": 3,
     "metadata": {},
     "output_type": "execute_result"
    }
   ],
   "source": [
    "df.head()"
   ]
  },
  {
   "cell_type": "code",
   "execution_count": 4,
   "metadata": {},
   "outputs": [
    {
     "name": "stdout",
     "output_type": "stream",
     "text": [
      "<class 'pandas.core.frame.DataFrame'>\n",
      "RangeIndex: 2509 entries, 0 to 2508\n",
      "Data columns (total 34 columns):\n",
      " #   Column                          Non-Null Count  Dtype  \n",
      "---  ------                          --------------  -----  \n",
      " 0   Patient ID                      2509 non-null   object \n",
      " 1   Age at Diagnosis                2498 non-null   float64\n",
      " 2   Type of Breast Surgery          1955 non-null   object \n",
      " 3   Cancer Type                     2509 non-null   object \n",
      " 4   Cancer Type Detailed            2509 non-null   object \n",
      " 5   Cellularity                     1917 non-null   object \n",
      " 6   Chemotherapy                    1980 non-null   object \n",
      " 7   Pam50 + Claudin-low subtype     1980 non-null   object \n",
      " 8   Cohort                          2498 non-null   float64\n",
      " 9   ER status measured by IHC       2426 non-null   object \n",
      " 10  ER Status                       2469 non-null   object \n",
      " 11  Neoplasm Histologic Grade       2388 non-null   float64\n",
      " 12  HER2 status measured by SNP6    1980 non-null   object \n",
      " 13  HER2 Status                     1980 non-null   object \n",
      " 14  Tumor Other Histologic Subtype  2374 non-null   object \n",
      " 15  Hormone Therapy                 1980 non-null   object \n",
      " 16  Inferred Menopausal State       1980 non-null   object \n",
      " 17  Integrative Cluster             1980 non-null   object \n",
      " 18  Primary Tumor Laterality        1870 non-null   object \n",
      " 19  Lymph nodes examined positive   2243 non-null   float64\n",
      " 20  Mutation Count                  2357 non-null   float64\n",
      " 21  Nottingham prognostic index     2287 non-null   float64\n",
      " 22  Oncotree Code                   2509 non-null   object \n",
      " 23  Overall Survival (Months)       1981 non-null   float64\n",
      " 24  Overall Survival Status         1981 non-null   object \n",
      " 25  PR Status                       1980 non-null   object \n",
      " 26  Radio Therapy                   1980 non-null   object \n",
      " 27  Relapse Free Status (Months)    2388 non-null   float64\n",
      " 28  Relapse Free Status             2488 non-null   object \n",
      " 29  Sex                             2509 non-null   object \n",
      " 30  3-Gene classifier subtype       1764 non-null   object \n",
      " 31  Tumor Size                      2360 non-null   float64\n",
      " 32  Tumor Stage                     1788 non-null   float64\n",
      " 33  Patient's Vital Status          1980 non-null   object \n",
      "dtypes: float64(10), object(24)\n",
      "memory usage: 666.6+ KB\n"
     ]
    }
   ],
   "source": [
    "df.info()"
   ]
  },
  {
   "cell_type": "code",
   "execution_count": 5,
   "metadata": {},
   "outputs": [
    {
     "data": {
      "text/plain": [
       "Patient ID                          0\n",
       "Age at Diagnosis                   11\n",
       "Type of Breast Surgery            554\n",
       "Cancer Type                         0\n",
       "Cancer Type Detailed                0\n",
       "Cellularity                       592\n",
       "Chemotherapy                      529\n",
       "Pam50 + Claudin-low subtype       529\n",
       "Cohort                             11\n",
       "ER status measured by IHC          83\n",
       "ER Status                          40\n",
       "Neoplasm Histologic Grade         121\n",
       "HER2 status measured by SNP6      529\n",
       "HER2 Status                       529\n",
       "Tumor Other Histologic Subtype    135\n",
       "Hormone Therapy                   529\n",
       "Inferred Menopausal State         529\n",
       "Integrative Cluster               529\n",
       "Primary Tumor Laterality          639\n",
       "Lymph nodes examined positive     266\n",
       "Mutation Count                    152\n",
       "Nottingham prognostic index       222\n",
       "Oncotree Code                       0\n",
       "Overall Survival (Months)         528\n",
       "Overall Survival Status           528\n",
       "PR Status                         529\n",
       "Radio Therapy                     529\n",
       "Relapse Free Status (Months)      121\n",
       "Relapse Free Status                21\n",
       "Sex                                 0\n",
       "3-Gene classifier subtype         745\n",
       "Tumor Size                        149\n",
       "Tumor Stage                       721\n",
       "Patient's Vital Status            529\n",
       "dtype: int64"
      ]
     },
     "execution_count": 5,
     "metadata": {},
     "output_type": "execute_result"
    }
   ],
   "source": [
    "df.isnull().sum()"
   ]
  },
  {
   "cell_type": "code",
   "execution_count": 6,
   "metadata": {},
   "outputs": [
    {
     "data": {
      "text/plain": [
       "(2509, 34)"
      ]
     },
     "execution_count": 6,
     "metadata": {},
     "output_type": "execute_result"
    }
   ],
   "source": [
    "df.shape"
   ]
  },
  {
   "cell_type": "code",
   "execution_count": 7,
   "metadata": {},
   "outputs": [
    {
     "data": {
      "text/plain": [
       "array(['Living', 'Died of Disease', 'Died of Other Causes', nan],\n",
       "      dtype=object)"
      ]
     },
     "execution_count": 7,
     "metadata": {},
     "output_type": "execute_result"
    }
   ],
   "source": [
    "df[\"Patient's Vital Status\"].unique()"
   ]
  },
  {
   "cell_type": "code",
   "execution_count": 8,
   "metadata": {},
   "outputs": [
    {
     "data": {
      "text/plain": [
       "array(['Living', 'Deceased', nan], dtype=object)"
      ]
     },
     "execution_count": 8,
     "metadata": {},
     "output_type": "execute_result"
    }
   ],
   "source": [
    "df['Overall Survival Status'].unique()"
   ]
  },
  {
   "cell_type": "code",
   "execution_count": 9,
   "metadata": {},
   "outputs": [
    {
     "data": {
      "text/plain": [
       "Overall Survival Status\n",
       "Deceased    1144\n",
       "Living       837\n",
       "Name: count, dtype: int64"
      ]
     },
     "execution_count": 9,
     "metadata": {},
     "output_type": "execute_result"
    }
   ],
   "source": [
    "df['Overall Survival Status'].value_counts()"
   ]
  },
  {
   "cell_type": "code",
   "execution_count": 10,
   "metadata": {},
   "outputs": [
    {
     "data": {
      "text/plain": [
       "np.int64(528)"
      ]
     },
     "execution_count": 10,
     "metadata": {},
     "output_type": "execute_result"
    }
   ],
   "source": [
    "df['Overall Survival Status'].isnull().sum()"
   ]
  },
  {
   "cell_type": "code",
   "execution_count": 11,
   "metadata": {},
   "outputs": [],
   "source": [
    "df['Overall Survival Status']=df['Overall Survival Status'].map({'Living':0, 'Deceased':1, np.nan:1})"
   ]
  },
  {
   "cell_type": "code",
   "execution_count": 12,
   "metadata": {},
   "outputs": [
    {
     "data": {
      "text/plain": [
       "np.int64(0)"
      ]
     },
     "execution_count": 12,
     "metadata": {},
     "output_type": "execute_result"
    }
   ],
   "source": [
    "df['Overall Survival Status'].isnull().sum()"
   ]
  },
  {
   "cell_type": "code",
   "execution_count": 13,
   "metadata": {},
   "outputs": [
    {
     "data": {
      "text/plain": [
       "Overall Survival Status\n",
       "1    1672\n",
       "0     837\n",
       "Name: count, dtype: int64"
      ]
     },
     "execution_count": 13,
     "metadata": {},
     "output_type": "execute_result"
    }
   ],
   "source": [
    "df['Overall Survival Status'].value_counts()"
   ]
  },
  {
   "cell_type": "code",
   "execution_count": 14,
   "metadata": {},
   "outputs": [],
   "source": [
    "df['Overall Survival Status']=df['Overall Survival Status'].astype(int)"
   ]
  },
  {
   "cell_type": "code",
   "execution_count": 15,
   "metadata": {},
   "outputs": [],
   "source": [
    "df.drop('Patient ID', axis=1, inplace=True)"
   ]
  },
  {
   "cell_type": "code",
   "execution_count": 16,
   "metadata": {},
   "outputs": [
    {
     "data": {
      "text/html": [
       "<div>\n",
       "<style scoped>\n",
       "    .dataframe tbody tr th:only-of-type {\n",
       "        vertical-align: middle;\n",
       "    }\n",
       "\n",
       "    .dataframe tbody tr th {\n",
       "        vertical-align: top;\n",
       "    }\n",
       "\n",
       "    .dataframe thead th {\n",
       "        text-align: right;\n",
       "    }\n",
       "</style>\n",
       "<table border=\"1\" class=\"dataframe\">\n",
       "  <thead>\n",
       "    <tr style=\"text-align: right;\">\n",
       "      <th></th>\n",
       "      <th>Age at Diagnosis</th>\n",
       "      <th>Type of Breast Surgery</th>\n",
       "      <th>Cancer Type</th>\n",
       "      <th>Cancer Type Detailed</th>\n",
       "      <th>Cellularity</th>\n",
       "      <th>Chemotherapy</th>\n",
       "      <th>Pam50 + Claudin-low subtype</th>\n",
       "      <th>Cohort</th>\n",
       "      <th>ER status measured by IHC</th>\n",
       "      <th>ER Status</th>\n",
       "      <th>...</th>\n",
       "      <th>Overall Survival Status</th>\n",
       "      <th>PR Status</th>\n",
       "      <th>Radio Therapy</th>\n",
       "      <th>Relapse Free Status (Months)</th>\n",
       "      <th>Relapse Free Status</th>\n",
       "      <th>Sex</th>\n",
       "      <th>3-Gene classifier subtype</th>\n",
       "      <th>Tumor Size</th>\n",
       "      <th>Tumor Stage</th>\n",
       "      <th>Patient's Vital Status</th>\n",
       "    </tr>\n",
       "  </thead>\n",
       "  <tbody>\n",
       "    <tr>\n",
       "      <th>0</th>\n",
       "      <td>75.65</td>\n",
       "      <td>Mastectomy</td>\n",
       "      <td>Breast Cancer</td>\n",
       "      <td>Breast Invasive Ductal Carcinoma</td>\n",
       "      <td>NaN</td>\n",
       "      <td>No</td>\n",
       "      <td>claudin-low</td>\n",
       "      <td>1.0</td>\n",
       "      <td>Positve</td>\n",
       "      <td>Positive</td>\n",
       "      <td>...</td>\n",
       "      <td>0</td>\n",
       "      <td>Negative</td>\n",
       "      <td>Yes</td>\n",
       "      <td>138.65</td>\n",
       "      <td>Not Recurred</td>\n",
       "      <td>Female</td>\n",
       "      <td>ER-/HER2-</td>\n",
       "      <td>22.0</td>\n",
       "      <td>2.0</td>\n",
       "      <td>Living</td>\n",
       "    </tr>\n",
       "    <tr>\n",
       "      <th>1</th>\n",
       "      <td>43.19</td>\n",
       "      <td>Breast Conserving</td>\n",
       "      <td>Breast Cancer</td>\n",
       "      <td>Breast Invasive Ductal Carcinoma</td>\n",
       "      <td>High</td>\n",
       "      <td>No</td>\n",
       "      <td>LumA</td>\n",
       "      <td>1.0</td>\n",
       "      <td>Positve</td>\n",
       "      <td>Positive</td>\n",
       "      <td>...</td>\n",
       "      <td>0</td>\n",
       "      <td>Positive</td>\n",
       "      <td>Yes</td>\n",
       "      <td>83.52</td>\n",
       "      <td>Not Recurred</td>\n",
       "      <td>Female</td>\n",
       "      <td>ER+/HER2- High Prolif</td>\n",
       "      <td>10.0</td>\n",
       "      <td>1.0</td>\n",
       "      <td>Living</td>\n",
       "    </tr>\n",
       "    <tr>\n",
       "      <th>2</th>\n",
       "      <td>48.87</td>\n",
       "      <td>Mastectomy</td>\n",
       "      <td>Breast Cancer</td>\n",
       "      <td>Breast Invasive Ductal Carcinoma</td>\n",
       "      <td>High</td>\n",
       "      <td>Yes</td>\n",
       "      <td>LumB</td>\n",
       "      <td>1.0</td>\n",
       "      <td>Positve</td>\n",
       "      <td>Positive</td>\n",
       "      <td>...</td>\n",
       "      <td>1</td>\n",
       "      <td>Positive</td>\n",
       "      <td>No</td>\n",
       "      <td>151.28</td>\n",
       "      <td>Recurred</td>\n",
       "      <td>Female</td>\n",
       "      <td>NaN</td>\n",
       "      <td>15.0</td>\n",
       "      <td>2.0</td>\n",
       "      <td>Died of Disease</td>\n",
       "    </tr>\n",
       "    <tr>\n",
       "      <th>3</th>\n",
       "      <td>47.68</td>\n",
       "      <td>Mastectomy</td>\n",
       "      <td>Breast Cancer</td>\n",
       "      <td>Breast Mixed Ductal and Lobular Carcinoma</td>\n",
       "      <td>Moderate</td>\n",
       "      <td>Yes</td>\n",
       "      <td>LumB</td>\n",
       "      <td>1.0</td>\n",
       "      <td>Positve</td>\n",
       "      <td>Positive</td>\n",
       "      <td>...</td>\n",
       "      <td>0</td>\n",
       "      <td>Positive</td>\n",
       "      <td>Yes</td>\n",
       "      <td>162.76</td>\n",
       "      <td>Not Recurred</td>\n",
       "      <td>Female</td>\n",
       "      <td>NaN</td>\n",
       "      <td>25.0</td>\n",
       "      <td>2.0</td>\n",
       "      <td>Living</td>\n",
       "    </tr>\n",
       "    <tr>\n",
       "      <th>4</th>\n",
       "      <td>76.97</td>\n",
       "      <td>Mastectomy</td>\n",
       "      <td>Breast Cancer</td>\n",
       "      <td>Breast Mixed Ductal and Lobular Carcinoma</td>\n",
       "      <td>High</td>\n",
       "      <td>Yes</td>\n",
       "      <td>LumB</td>\n",
       "      <td>1.0</td>\n",
       "      <td>Positve</td>\n",
       "      <td>Positive</td>\n",
       "      <td>...</td>\n",
       "      <td>1</td>\n",
       "      <td>Positive</td>\n",
       "      <td>Yes</td>\n",
       "      <td>18.55</td>\n",
       "      <td>Recurred</td>\n",
       "      <td>Female</td>\n",
       "      <td>ER+/HER2- High Prolif</td>\n",
       "      <td>40.0</td>\n",
       "      <td>2.0</td>\n",
       "      <td>Died of Disease</td>\n",
       "    </tr>\n",
       "  </tbody>\n",
       "</table>\n",
       "<p>5 rows × 33 columns</p>\n",
       "</div>"
      ],
      "text/plain": [
       "   Age at Diagnosis Type of Breast Surgery    Cancer Type  \\\n",
       "0             75.65             Mastectomy  Breast Cancer   \n",
       "1             43.19      Breast Conserving  Breast Cancer   \n",
       "2             48.87             Mastectomy  Breast Cancer   \n",
       "3             47.68             Mastectomy  Breast Cancer   \n",
       "4             76.97             Mastectomy  Breast Cancer   \n",
       "\n",
       "                        Cancer Type Detailed Cellularity Chemotherapy  \\\n",
       "0           Breast Invasive Ductal Carcinoma         NaN           No   \n",
       "1           Breast Invasive Ductal Carcinoma        High           No   \n",
       "2           Breast Invasive Ductal Carcinoma        High          Yes   \n",
       "3  Breast Mixed Ductal and Lobular Carcinoma    Moderate          Yes   \n",
       "4  Breast Mixed Ductal and Lobular Carcinoma        High          Yes   \n",
       "\n",
       "  Pam50 + Claudin-low subtype  Cohort ER status measured by IHC ER Status  \\\n",
       "0                 claudin-low     1.0                   Positve  Positive   \n",
       "1                        LumA     1.0                   Positve  Positive   \n",
       "2                        LumB     1.0                   Positve  Positive   \n",
       "3                        LumB     1.0                   Positve  Positive   \n",
       "4                        LumB     1.0                   Positve  Positive   \n",
       "\n",
       "   ...  Overall Survival Status PR Status Radio Therapy  \\\n",
       "0  ...                        0  Negative           Yes   \n",
       "1  ...                        0  Positive           Yes   \n",
       "2  ...                        1  Positive            No   \n",
       "3  ...                        0  Positive           Yes   \n",
       "4  ...                        1  Positive           Yes   \n",
       "\n",
       "  Relapse Free Status (Months) Relapse Free Status     Sex  \\\n",
       "0                       138.65        Not Recurred  Female   \n",
       "1                        83.52        Not Recurred  Female   \n",
       "2                       151.28            Recurred  Female   \n",
       "3                       162.76        Not Recurred  Female   \n",
       "4                        18.55            Recurred  Female   \n",
       "\n",
       "  3-Gene classifier subtype Tumor Size  Tumor Stage  Patient's Vital Status  \n",
       "0                 ER-/HER2-       22.0          2.0                  Living  \n",
       "1     ER+/HER2- High Prolif       10.0          1.0                  Living  \n",
       "2                       NaN       15.0          2.0         Died of Disease  \n",
       "3                       NaN       25.0          2.0                  Living  \n",
       "4     ER+/HER2- High Prolif       40.0          2.0         Died of Disease  \n",
       "\n",
       "[5 rows x 33 columns]"
      ]
     },
     "execution_count": 16,
     "metadata": {},
     "output_type": "execute_result"
    }
   ],
   "source": [
    "df.head(5)"
   ]
  },
  {
   "cell_type": "code",
   "execution_count": 17,
   "metadata": {},
   "outputs": [
    {
     "data": {
      "text/plain": [
       "np.int64(11)"
      ]
     },
     "execution_count": 17,
     "metadata": {},
     "output_type": "execute_result"
    }
   ],
   "source": [
    "df['Age at Diagnosis'].isnull().sum()"
   ]
  },
  {
   "cell_type": "code",
   "execution_count": 18,
   "metadata": {},
   "outputs": [
    {
     "data": {
      "text/html": [
       "<div>\n",
       "<style scoped>\n",
       "    .dataframe tbody tr th:only-of-type {\n",
       "        vertical-align: middle;\n",
       "    }\n",
       "\n",
       "    .dataframe tbody tr th {\n",
       "        vertical-align: top;\n",
       "    }\n",
       "\n",
       "    .dataframe thead th {\n",
       "        text-align: right;\n",
       "    }\n",
       "</style>\n",
       "<table border=\"1\" class=\"dataframe\">\n",
       "  <thead>\n",
       "    <tr style=\"text-align: right;\">\n",
       "      <th></th>\n",
       "      <th>Age at Diagnosis</th>\n",
       "      <th>Type of Breast Surgery</th>\n",
       "      <th>Cancer Type</th>\n",
       "      <th>Cancer Type Detailed</th>\n",
       "      <th>Cellularity</th>\n",
       "      <th>Chemotherapy</th>\n",
       "      <th>Pam50 + Claudin-low subtype</th>\n",
       "      <th>Cohort</th>\n",
       "      <th>ER status measured by IHC</th>\n",
       "      <th>ER Status</th>\n",
       "      <th>...</th>\n",
       "      <th>Overall Survival Status</th>\n",
       "      <th>PR Status</th>\n",
       "      <th>Radio Therapy</th>\n",
       "      <th>Relapse Free Status (Months)</th>\n",
       "      <th>Relapse Free Status</th>\n",
       "      <th>Sex</th>\n",
       "      <th>3-Gene classifier subtype</th>\n",
       "      <th>Tumor Size</th>\n",
       "      <th>Tumor Stage</th>\n",
       "      <th>Patient's Vital Status</th>\n",
       "    </tr>\n",
       "  </thead>\n",
       "  <tbody>\n",
       "  </tbody>\n",
       "</table>\n",
       "<p>0 rows × 33 columns</p>\n",
       "</div>"
      ],
      "text/plain": [
       "Empty DataFrame\n",
       "Columns: [Age at Diagnosis, Type of Breast Surgery, Cancer Type, Cancer Type Detailed, Cellularity, Chemotherapy, Pam50 + Claudin-low subtype, Cohort, ER status measured by IHC, ER Status, Neoplasm Histologic Grade, HER2 status measured by SNP6, HER2 Status, Tumor Other Histologic Subtype, Hormone Therapy, Inferred Menopausal State, Integrative Cluster, Primary Tumor Laterality, Lymph nodes examined positive, Mutation Count, Nottingham prognostic index, Oncotree Code, Overall Survival (Months), Overall Survival Status, PR Status, Radio Therapy, Relapse Free Status (Months), Relapse Free Status, Sex, 3-Gene classifier subtype, Tumor Size, Tumor Stage, Patient's Vital Status]\n",
       "Index: []\n",
       "\n",
       "[0 rows x 33 columns]"
      ]
     },
     "execution_count": 18,
     "metadata": {},
     "output_type": "execute_result"
    }
   ],
   "source": [
    "df[df['Age at Diagnosis']==0]"
   ]
  },
  {
   "cell_type": "code",
   "execution_count": 19,
   "metadata": {},
   "outputs": [
    {
     "data": {
      "text/plain": [
       "Index(['Age at Diagnosis', 'Type of Breast Surgery', 'Cancer Type',\n",
       "       'Cancer Type Detailed', 'Cellularity', 'Chemotherapy',\n",
       "       'Pam50 + Claudin-low subtype', 'Cohort', 'ER status measured by IHC',\n",
       "       'ER Status', 'Neoplasm Histologic Grade',\n",
       "       'HER2 status measured by SNP6', 'HER2 Status',\n",
       "       'Tumor Other Histologic Subtype', 'Hormone Therapy',\n",
       "       'Inferred Menopausal State', 'Integrative Cluster',\n",
       "       'Primary Tumor Laterality', 'Lymph nodes examined positive',\n",
       "       'Mutation Count', 'Nottingham prognostic index', 'Oncotree Code',\n",
       "       'Overall Survival (Months)', 'Overall Survival Status', 'PR Status',\n",
       "       'Radio Therapy', 'Relapse Free Status (Months)', 'Relapse Free Status',\n",
       "       'Sex', '3-Gene classifier subtype', 'Tumor Size', 'Tumor Stage',\n",
       "       'Patient's Vital Status'],\n",
       "      dtype='object')"
      ]
     },
     "execution_count": 19,
     "metadata": {},
     "output_type": "execute_result"
    }
   ],
   "source": [
    "df.columns"
   ]
  },
  {
   "cell_type": "code",
   "execution_count": 20,
   "metadata": {},
   "outputs": [
    {
     "data": {
      "text/plain": [
       "Index(['Age at Diagnosis', 'Type of Breast Surgery', 'Cancer Type',\n",
       "       'Cancer Type Detailed', 'Cellularity', 'Chemotherapy',\n",
       "       'Pam50 + Claudin-low subtype', 'Cohort', 'ER status measured by IHC',\n",
       "       'ER Status', 'Neoplasm Histologic Grade',\n",
       "       'HER2 status measured by SNP6', 'HER2 Status',\n",
       "       'Tumor Other Histologic Subtype', 'Hormone Therapy',\n",
       "       'Inferred Menopausal State', 'Integrative Cluster',\n",
       "       'Primary Tumor Laterality', 'Lymph nodes examined positive',\n",
       "       'Mutation Count', 'Nottingham prognostic index', 'Oncotree Code',\n",
       "       'Overall Survival (Months)', 'Overall Survival Status', 'PR Status',\n",
       "       'Radio Therapy', 'Relapse Free Status (Months)', 'Relapse Free Status',\n",
       "       'Sex', '3-Gene classifier subtype', 'Tumor Size', 'Tumor Stage',\n",
       "       'Patient's Vital Status'],\n",
       "      dtype='object')"
      ]
     },
     "execution_count": 20,
     "metadata": {},
     "output_type": "execute_result"
    }
   ],
   "source": [
    "df.columns=df.columns.str.strip()\n",
    "df.columns"
   ]
  },
  {
   "cell_type": "code",
   "execution_count": 21,
   "metadata": {},
   "outputs": [
    {
     "data": {
      "text/html": [
       "<div>\n",
       "<style scoped>\n",
       "    .dataframe tbody tr th:only-of-type {\n",
       "        vertical-align: middle;\n",
       "    }\n",
       "\n",
       "    .dataframe tbody tr th {\n",
       "        vertical-align: top;\n",
       "    }\n",
       "\n",
       "    .dataframe thead th {\n",
       "        text-align: right;\n",
       "    }\n",
       "</style>\n",
       "<table border=\"1\" class=\"dataframe\">\n",
       "  <thead>\n",
       "    <tr style=\"text-align: right;\">\n",
       "      <th></th>\n",
       "      <th>Age at Diagnosis</th>\n",
       "      <th>Type of Breast Surgery</th>\n",
       "      <th>Cancer Type</th>\n",
       "      <th>Cancer Type Detailed</th>\n",
       "      <th>Cellularity</th>\n",
       "      <th>Chemotherapy</th>\n",
       "      <th>Pam50 + Claudin-low subtype</th>\n",
       "      <th>Cohort</th>\n",
       "      <th>ER status measured by IHC</th>\n",
       "      <th>ER Status</th>\n",
       "      <th>...</th>\n",
       "      <th>Overall Survival Status</th>\n",
       "      <th>PR Status</th>\n",
       "      <th>Radio Therapy</th>\n",
       "      <th>Relapse Free Status (Months)</th>\n",
       "      <th>Relapse Free Status</th>\n",
       "      <th>Sex</th>\n",
       "      <th>3-Gene classifier subtype</th>\n",
       "      <th>Tumor Size</th>\n",
       "      <th>Tumor Stage</th>\n",
       "      <th>Patient's Vital Status</th>\n",
       "    </tr>\n",
       "  </thead>\n",
       "  <tbody>\n",
       "    <tr>\n",
       "      <th>2055</th>\n",
       "      <td>NaN</td>\n",
       "      <td>NaN</td>\n",
       "      <td>Breast Cancer</td>\n",
       "      <td>Invasive Breast Carcinoma</td>\n",
       "      <td>NaN</td>\n",
       "      <td>NaN</td>\n",
       "      <td>NaN</td>\n",
       "      <td>NaN</td>\n",
       "      <td>NaN</td>\n",
       "      <td>NaN</td>\n",
       "      <td>...</td>\n",
       "      <td>1</td>\n",
       "      <td>NaN</td>\n",
       "      <td>NaN</td>\n",
       "      <td>NaN</td>\n",
       "      <td>NaN</td>\n",
       "      <td>Female</td>\n",
       "      <td>NaN</td>\n",
       "      <td>NaN</td>\n",
       "      <td>0.0</td>\n",
       "      <td>NaN</td>\n",
       "    </tr>\n",
       "    <tr>\n",
       "      <th>2143</th>\n",
       "      <td>NaN</td>\n",
       "      <td>NaN</td>\n",
       "      <td>Breast Cancer</td>\n",
       "      <td>Invasive Breast Carcinoma</td>\n",
       "      <td>NaN</td>\n",
       "      <td>NaN</td>\n",
       "      <td>NaN</td>\n",
       "      <td>NaN</td>\n",
       "      <td>NaN</td>\n",
       "      <td>NaN</td>\n",
       "      <td>...</td>\n",
       "      <td>1</td>\n",
       "      <td>NaN</td>\n",
       "      <td>NaN</td>\n",
       "      <td>NaN</td>\n",
       "      <td>NaN</td>\n",
       "      <td>Female</td>\n",
       "      <td>NaN</td>\n",
       "      <td>NaN</td>\n",
       "      <td>0.0</td>\n",
       "      <td>NaN</td>\n",
       "    </tr>\n",
       "    <tr>\n",
       "      <th>2144</th>\n",
       "      <td>NaN</td>\n",
       "      <td>NaN</td>\n",
       "      <td>Breast Cancer</td>\n",
       "      <td>Invasive Breast Carcinoma</td>\n",
       "      <td>NaN</td>\n",
       "      <td>NaN</td>\n",
       "      <td>NaN</td>\n",
       "      <td>NaN</td>\n",
       "      <td>NaN</td>\n",
       "      <td>NaN</td>\n",
       "      <td>...</td>\n",
       "      <td>1</td>\n",
       "      <td>NaN</td>\n",
       "      <td>NaN</td>\n",
       "      <td>NaN</td>\n",
       "      <td>NaN</td>\n",
       "      <td>Female</td>\n",
       "      <td>NaN</td>\n",
       "      <td>NaN</td>\n",
       "      <td>0.0</td>\n",
       "      <td>NaN</td>\n",
       "    </tr>\n",
       "    <tr>\n",
       "      <th>2318</th>\n",
       "      <td>NaN</td>\n",
       "      <td>NaN</td>\n",
       "      <td>Breast Cancer</td>\n",
       "      <td>Invasive Breast Carcinoma</td>\n",
       "      <td>NaN</td>\n",
       "      <td>NaN</td>\n",
       "      <td>NaN</td>\n",
       "      <td>NaN</td>\n",
       "      <td>NaN</td>\n",
       "      <td>NaN</td>\n",
       "      <td>...</td>\n",
       "      <td>1</td>\n",
       "      <td>NaN</td>\n",
       "      <td>NaN</td>\n",
       "      <td>NaN</td>\n",
       "      <td>NaN</td>\n",
       "      <td>Female</td>\n",
       "      <td>NaN</td>\n",
       "      <td>NaN</td>\n",
       "      <td>0.0</td>\n",
       "      <td>NaN</td>\n",
       "    </tr>\n",
       "    <tr>\n",
       "      <th>2320</th>\n",
       "      <td>NaN</td>\n",
       "      <td>NaN</td>\n",
       "      <td>Breast Cancer</td>\n",
       "      <td>Invasive Breast Carcinoma</td>\n",
       "      <td>NaN</td>\n",
       "      <td>NaN</td>\n",
       "      <td>NaN</td>\n",
       "      <td>NaN</td>\n",
       "      <td>NaN</td>\n",
       "      <td>NaN</td>\n",
       "      <td>...</td>\n",
       "      <td>1</td>\n",
       "      <td>NaN</td>\n",
       "      <td>NaN</td>\n",
       "      <td>NaN</td>\n",
       "      <td>NaN</td>\n",
       "      <td>Female</td>\n",
       "      <td>NaN</td>\n",
       "      <td>NaN</td>\n",
       "      <td>0.0</td>\n",
       "      <td>NaN</td>\n",
       "    </tr>\n",
       "    <tr>\n",
       "      <th>2324</th>\n",
       "      <td>NaN</td>\n",
       "      <td>NaN</td>\n",
       "      <td>Breast Cancer</td>\n",
       "      <td>Invasive Breast Carcinoma</td>\n",
       "      <td>NaN</td>\n",
       "      <td>NaN</td>\n",
       "      <td>NaN</td>\n",
       "      <td>NaN</td>\n",
       "      <td>NaN</td>\n",
       "      <td>NaN</td>\n",
       "      <td>...</td>\n",
       "      <td>1</td>\n",
       "      <td>NaN</td>\n",
       "      <td>NaN</td>\n",
       "      <td>NaN</td>\n",
       "      <td>NaN</td>\n",
       "      <td>Female</td>\n",
       "      <td>NaN</td>\n",
       "      <td>NaN</td>\n",
       "      <td>0.0</td>\n",
       "      <td>NaN</td>\n",
       "    </tr>\n",
       "    <tr>\n",
       "      <th>2496</th>\n",
       "      <td>NaN</td>\n",
       "      <td>NaN</td>\n",
       "      <td>Breast Cancer</td>\n",
       "      <td>Invasive Breast Carcinoma</td>\n",
       "      <td>NaN</td>\n",
       "      <td>NaN</td>\n",
       "      <td>NaN</td>\n",
       "      <td>NaN</td>\n",
       "      <td>NaN</td>\n",
       "      <td>NaN</td>\n",
       "      <td>...</td>\n",
       "      <td>1</td>\n",
       "      <td>NaN</td>\n",
       "      <td>NaN</td>\n",
       "      <td>NaN</td>\n",
       "      <td>NaN</td>\n",
       "      <td>Female</td>\n",
       "      <td>NaN</td>\n",
       "      <td>NaN</td>\n",
       "      <td>0.0</td>\n",
       "      <td>NaN</td>\n",
       "    </tr>\n",
       "    <tr>\n",
       "      <th>2498</th>\n",
       "      <td>NaN</td>\n",
       "      <td>NaN</td>\n",
       "      <td>Breast Cancer</td>\n",
       "      <td>Invasive Breast Carcinoma</td>\n",
       "      <td>NaN</td>\n",
       "      <td>NaN</td>\n",
       "      <td>NaN</td>\n",
       "      <td>NaN</td>\n",
       "      <td>NaN</td>\n",
       "      <td>NaN</td>\n",
       "      <td>...</td>\n",
       "      <td>1</td>\n",
       "      <td>NaN</td>\n",
       "      <td>NaN</td>\n",
       "      <td>NaN</td>\n",
       "      <td>NaN</td>\n",
       "      <td>Female</td>\n",
       "      <td>NaN</td>\n",
       "      <td>NaN</td>\n",
       "      <td>0.0</td>\n",
       "      <td>NaN</td>\n",
       "    </tr>\n",
       "    <tr>\n",
       "      <th>2506</th>\n",
       "      <td>NaN</td>\n",
       "      <td>NaN</td>\n",
       "      <td>Breast Cancer</td>\n",
       "      <td>Invasive Breast Carcinoma</td>\n",
       "      <td>NaN</td>\n",
       "      <td>NaN</td>\n",
       "      <td>NaN</td>\n",
       "      <td>NaN</td>\n",
       "      <td>NaN</td>\n",
       "      <td>NaN</td>\n",
       "      <td>...</td>\n",
       "      <td>1</td>\n",
       "      <td>NaN</td>\n",
       "      <td>NaN</td>\n",
       "      <td>NaN</td>\n",
       "      <td>NaN</td>\n",
       "      <td>Female</td>\n",
       "      <td>NaN</td>\n",
       "      <td>NaN</td>\n",
       "      <td>0.0</td>\n",
       "      <td>NaN</td>\n",
       "    </tr>\n",
       "    <tr>\n",
       "      <th>2507</th>\n",
       "      <td>NaN</td>\n",
       "      <td>NaN</td>\n",
       "      <td>Breast Cancer</td>\n",
       "      <td>Invasive Breast Carcinoma</td>\n",
       "      <td>NaN</td>\n",
       "      <td>NaN</td>\n",
       "      <td>NaN</td>\n",
       "      <td>NaN</td>\n",
       "      <td>NaN</td>\n",
       "      <td>NaN</td>\n",
       "      <td>...</td>\n",
       "      <td>1</td>\n",
       "      <td>NaN</td>\n",
       "      <td>NaN</td>\n",
       "      <td>NaN</td>\n",
       "      <td>NaN</td>\n",
       "      <td>Female</td>\n",
       "      <td>NaN</td>\n",
       "      <td>NaN</td>\n",
       "      <td>0.0</td>\n",
       "      <td>NaN</td>\n",
       "    </tr>\n",
       "    <tr>\n",
       "      <th>2508</th>\n",
       "      <td>NaN</td>\n",
       "      <td>NaN</td>\n",
       "      <td>Breast Cancer</td>\n",
       "      <td>Invasive Breast Carcinoma</td>\n",
       "      <td>NaN</td>\n",
       "      <td>NaN</td>\n",
       "      <td>NaN</td>\n",
       "      <td>NaN</td>\n",
       "      <td>NaN</td>\n",
       "      <td>NaN</td>\n",
       "      <td>...</td>\n",
       "      <td>1</td>\n",
       "      <td>NaN</td>\n",
       "      <td>NaN</td>\n",
       "      <td>NaN</td>\n",
       "      <td>NaN</td>\n",
       "      <td>Female</td>\n",
       "      <td>NaN</td>\n",
       "      <td>NaN</td>\n",
       "      <td>0.0</td>\n",
       "      <td>NaN</td>\n",
       "    </tr>\n",
       "  </tbody>\n",
       "</table>\n",
       "<p>11 rows × 33 columns</p>\n",
       "</div>"
      ],
      "text/plain": [
       "      Age at Diagnosis Type of Breast Surgery    Cancer Type  \\\n",
       "2055               NaN                    NaN  Breast Cancer   \n",
       "2143               NaN                    NaN  Breast Cancer   \n",
       "2144               NaN                    NaN  Breast Cancer   \n",
       "2318               NaN                    NaN  Breast Cancer   \n",
       "2320               NaN                    NaN  Breast Cancer   \n",
       "2324               NaN                    NaN  Breast Cancer   \n",
       "2496               NaN                    NaN  Breast Cancer   \n",
       "2498               NaN                    NaN  Breast Cancer   \n",
       "2506               NaN                    NaN  Breast Cancer   \n",
       "2507               NaN                    NaN  Breast Cancer   \n",
       "2508               NaN                    NaN  Breast Cancer   \n",
       "\n",
       "           Cancer Type Detailed Cellularity Chemotherapy  \\\n",
       "2055  Invasive Breast Carcinoma         NaN          NaN   \n",
       "2143  Invasive Breast Carcinoma         NaN          NaN   \n",
       "2144  Invasive Breast Carcinoma         NaN          NaN   \n",
       "2318  Invasive Breast Carcinoma         NaN          NaN   \n",
       "2320  Invasive Breast Carcinoma         NaN          NaN   \n",
       "2324  Invasive Breast Carcinoma         NaN          NaN   \n",
       "2496  Invasive Breast Carcinoma         NaN          NaN   \n",
       "2498  Invasive Breast Carcinoma         NaN          NaN   \n",
       "2506  Invasive Breast Carcinoma         NaN          NaN   \n",
       "2507  Invasive Breast Carcinoma         NaN          NaN   \n",
       "2508  Invasive Breast Carcinoma         NaN          NaN   \n",
       "\n",
       "     Pam50 + Claudin-low subtype  Cohort ER status measured by IHC ER Status  \\\n",
       "2055                         NaN     NaN                       NaN       NaN   \n",
       "2143                         NaN     NaN                       NaN       NaN   \n",
       "2144                         NaN     NaN                       NaN       NaN   \n",
       "2318                         NaN     NaN                       NaN       NaN   \n",
       "2320                         NaN     NaN                       NaN       NaN   \n",
       "2324                         NaN     NaN                       NaN       NaN   \n",
       "2496                         NaN     NaN                       NaN       NaN   \n",
       "2498                         NaN     NaN                       NaN       NaN   \n",
       "2506                         NaN     NaN                       NaN       NaN   \n",
       "2507                         NaN     NaN                       NaN       NaN   \n",
       "2508                         NaN     NaN                       NaN       NaN   \n",
       "\n",
       "      ...  Overall Survival Status PR Status Radio Therapy  \\\n",
       "2055  ...                        1       NaN           NaN   \n",
       "2143  ...                        1       NaN           NaN   \n",
       "2144  ...                        1       NaN           NaN   \n",
       "2318  ...                        1       NaN           NaN   \n",
       "2320  ...                        1       NaN           NaN   \n",
       "2324  ...                        1       NaN           NaN   \n",
       "2496  ...                        1       NaN           NaN   \n",
       "2498  ...                        1       NaN           NaN   \n",
       "2506  ...                        1       NaN           NaN   \n",
       "2507  ...                        1       NaN           NaN   \n",
       "2508  ...                        1       NaN           NaN   \n",
       "\n",
       "     Relapse Free Status (Months) Relapse Free Status     Sex  \\\n",
       "2055                          NaN                 NaN  Female   \n",
       "2143                          NaN                 NaN  Female   \n",
       "2144                          NaN                 NaN  Female   \n",
       "2318                          NaN                 NaN  Female   \n",
       "2320                          NaN                 NaN  Female   \n",
       "2324                          NaN                 NaN  Female   \n",
       "2496                          NaN                 NaN  Female   \n",
       "2498                          NaN                 NaN  Female   \n",
       "2506                          NaN                 NaN  Female   \n",
       "2507                          NaN                 NaN  Female   \n",
       "2508                          NaN                 NaN  Female   \n",
       "\n",
       "     3-Gene classifier subtype Tumor Size  Tumor Stage  Patient's Vital Status  \n",
       "2055                       NaN        NaN          0.0                     NaN  \n",
       "2143                       NaN        NaN          0.0                     NaN  \n",
       "2144                       NaN        NaN          0.0                     NaN  \n",
       "2318                       NaN        NaN          0.0                     NaN  \n",
       "2320                       NaN        NaN          0.0                     NaN  \n",
       "2324                       NaN        NaN          0.0                     NaN  \n",
       "2496                       NaN        NaN          0.0                     NaN  \n",
       "2498                       NaN        NaN          0.0                     NaN  \n",
       "2506                       NaN        NaN          0.0                     NaN  \n",
       "2507                       NaN        NaN          0.0                     NaN  \n",
       "2508                       NaN        NaN          0.0                     NaN  \n",
       "\n",
       "[11 rows x 33 columns]"
      ]
     },
     "execution_count": 21,
     "metadata": {},
     "output_type": "execute_result"
    }
   ],
   "source": [
    "df[df['Age at Diagnosis'].isnull()]"
   ]
  },
  {
   "cell_type": "code",
   "execution_count": 22,
   "metadata": {},
   "outputs": [
    {
     "name": "stdout",
     "output_type": "stream",
     "text": [
      "<class 'pandas.core.frame.DataFrame'>\n",
      "RangeIndex: 2509 entries, 0 to 2508\n",
      "Data columns (total 33 columns):\n",
      " #   Column                          Non-Null Count  Dtype  \n",
      "---  ------                          --------------  -----  \n",
      " 0   Age at Diagnosis                2498 non-null   float64\n",
      " 1   Type of Breast Surgery          1955 non-null   object \n",
      " 2   Cancer Type                     2509 non-null   object \n",
      " 3   Cancer Type Detailed            2509 non-null   object \n",
      " 4   Cellularity                     1917 non-null   object \n",
      " 5   Chemotherapy                    1980 non-null   object \n",
      " 6   Pam50 + Claudin-low subtype     1980 non-null   object \n",
      " 7   Cohort                          2498 non-null   float64\n",
      " 8   ER status measured by IHC       2426 non-null   object \n",
      " 9   ER Status                       2469 non-null   object \n",
      " 10  Neoplasm Histologic Grade       2388 non-null   float64\n",
      " 11  HER2 status measured by SNP6    1980 non-null   object \n",
      " 12  HER2 Status                     1980 non-null   object \n",
      " 13  Tumor Other Histologic Subtype  2374 non-null   object \n",
      " 14  Hormone Therapy                 1980 non-null   object \n",
      " 15  Inferred Menopausal State       1980 non-null   object \n",
      " 16  Integrative Cluster             1980 non-null   object \n",
      " 17  Primary Tumor Laterality        1870 non-null   object \n",
      " 18  Lymph nodes examined positive   2243 non-null   float64\n",
      " 19  Mutation Count                  2357 non-null   float64\n",
      " 20  Nottingham prognostic index     2287 non-null   float64\n",
      " 21  Oncotree Code                   2509 non-null   object \n",
      " 22  Overall Survival (Months)       1981 non-null   float64\n",
      " 23  Overall Survival Status         2509 non-null   int64  \n",
      " 24  PR Status                       1980 non-null   object \n",
      " 25  Radio Therapy                   1980 non-null   object \n",
      " 26  Relapse Free Status (Months)    2388 non-null   float64\n",
      " 27  Relapse Free Status             2488 non-null   object \n",
      " 28  Sex                             2509 non-null   object \n",
      " 29  3-Gene classifier subtype       1764 non-null   object \n",
      " 30  Tumor Size                      2360 non-null   float64\n",
      " 31  Tumor Stage                     1788 non-null   float64\n",
      " 32  Patient's Vital Status          1980 non-null   object \n",
      "dtypes: float64(10), int64(1), object(22)\n",
      "memory usage: 647.0+ KB\n"
     ]
    }
   ],
   "source": [
    "df.info()"
   ]
  },
  {
   "cell_type": "code",
   "execution_count": 23,
   "metadata": {},
   "outputs": [],
   "source": [
    "mean=df['Age at Diagnosis'].mean()"
   ]
  },
  {
   "cell_type": "code",
   "execution_count": 24,
   "metadata": {},
   "outputs": [
    {
     "data": {
      "text/plain": [
       "np.float64(60.420300240192155)"
      ]
     },
     "execution_count": 24,
     "metadata": {},
     "output_type": "execute_result"
    }
   ],
   "source": [
    "mean"
   ]
  },
  {
   "cell_type": "code",
   "execution_count": 25,
   "metadata": {},
   "outputs": [],
   "source": [
    "df['Age at Diagnosis']=df['Age at Diagnosis'].fillna(mean)"
   ]
  },
  {
   "cell_type": "code",
   "execution_count": 26,
   "metadata": {},
   "outputs": [
    {
     "data": {
      "text/plain": [
       "np.int64(0)"
      ]
     },
     "execution_count": 26,
     "metadata": {},
     "output_type": "execute_result"
    }
   ],
   "source": [
    "df['Age at Diagnosis'].isnull().sum()"
   ]
  },
  {
   "cell_type": "code",
   "execution_count": 27,
   "metadata": {},
   "outputs": [
    {
     "data": {
      "text/html": [
       "<div>\n",
       "<style scoped>\n",
       "    .dataframe tbody tr th:only-of-type {\n",
       "        vertical-align: middle;\n",
       "    }\n",
       "\n",
       "    .dataframe tbody tr th {\n",
       "        vertical-align: top;\n",
       "    }\n",
       "\n",
       "    .dataframe thead th {\n",
       "        text-align: right;\n",
       "    }\n",
       "</style>\n",
       "<table border=\"1\" class=\"dataframe\">\n",
       "  <thead>\n",
       "    <tr style=\"text-align: right;\">\n",
       "      <th></th>\n",
       "      <th>Age at Diagnosis</th>\n",
       "      <th>Type of Breast Surgery</th>\n",
       "      <th>Cancer Type</th>\n",
       "      <th>Cancer Type Detailed</th>\n",
       "      <th>Cellularity</th>\n",
       "      <th>Chemotherapy</th>\n",
       "      <th>Pam50 + Claudin-low subtype</th>\n",
       "      <th>Cohort</th>\n",
       "      <th>ER status measured by IHC</th>\n",
       "      <th>ER Status</th>\n",
       "      <th>...</th>\n",
       "      <th>Overall Survival Status</th>\n",
       "      <th>PR Status</th>\n",
       "      <th>Radio Therapy</th>\n",
       "      <th>Relapse Free Status (Months)</th>\n",
       "      <th>Relapse Free Status</th>\n",
       "      <th>Sex</th>\n",
       "      <th>3-Gene classifier subtype</th>\n",
       "      <th>Tumor Size</th>\n",
       "      <th>Tumor Stage</th>\n",
       "      <th>Patient's Vital Status</th>\n",
       "    </tr>\n",
       "  </thead>\n",
       "  <tbody>\n",
       "  </tbody>\n",
       "</table>\n",
       "<p>0 rows × 33 columns</p>\n",
       "</div>"
      ],
      "text/plain": [
       "Empty DataFrame\n",
       "Columns: [Age at Diagnosis, Type of Breast Surgery, Cancer Type, Cancer Type Detailed, Cellularity, Chemotherapy, Pam50 + Claudin-low subtype, Cohort, ER status measured by IHC, ER Status, Neoplasm Histologic Grade, HER2 status measured by SNP6, HER2 Status, Tumor Other Histologic Subtype, Hormone Therapy, Inferred Menopausal State, Integrative Cluster, Primary Tumor Laterality, Lymph nodes examined positive, Mutation Count, Nottingham prognostic index, Oncotree Code, Overall Survival (Months), Overall Survival Status, PR Status, Radio Therapy, Relapse Free Status (Months), Relapse Free Status, Sex, 3-Gene classifier subtype, Tumor Size, Tumor Stage, Patient's Vital Status]\n",
       "Index: []\n",
       "\n",
       "[0 rows x 33 columns]"
      ]
     },
     "execution_count": 27,
     "metadata": {},
     "output_type": "execute_result"
    }
   ],
   "source": [
    "df[df['Age at Diagnosis'].isnull()]"
   ]
  },
  {
   "cell_type": "code",
   "execution_count": 28,
   "metadata": {},
   "outputs": [
    {
     "name": "stdout",
     "output_type": "stream",
     "text": [
      "<class 'pandas.core.frame.DataFrame'>\n",
      "RangeIndex: 2509 entries, 0 to 2508\n",
      "Data columns (total 33 columns):\n",
      " #   Column                          Non-Null Count  Dtype  \n",
      "---  ------                          --------------  -----  \n",
      " 0   Age at Diagnosis                2509 non-null   float64\n",
      " 1   Type of Breast Surgery          1955 non-null   object \n",
      " 2   Cancer Type                     2509 non-null   object \n",
      " 3   Cancer Type Detailed            2509 non-null   object \n",
      " 4   Cellularity                     1917 non-null   object \n",
      " 5   Chemotherapy                    1980 non-null   object \n",
      " 6   Pam50 + Claudin-low subtype     1980 non-null   object \n",
      " 7   Cohort                          2498 non-null   float64\n",
      " 8   ER status measured by IHC       2426 non-null   object \n",
      " 9   ER Status                       2469 non-null   object \n",
      " 10  Neoplasm Histologic Grade       2388 non-null   float64\n",
      " 11  HER2 status measured by SNP6    1980 non-null   object \n",
      " 12  HER2 Status                     1980 non-null   object \n",
      " 13  Tumor Other Histologic Subtype  2374 non-null   object \n",
      " 14  Hormone Therapy                 1980 non-null   object \n",
      " 15  Inferred Menopausal State       1980 non-null   object \n",
      " 16  Integrative Cluster             1980 non-null   object \n",
      " 17  Primary Tumor Laterality        1870 non-null   object \n",
      " 18  Lymph nodes examined positive   2243 non-null   float64\n",
      " 19  Mutation Count                  2357 non-null   float64\n",
      " 20  Nottingham prognostic index     2287 non-null   float64\n",
      " 21  Oncotree Code                   2509 non-null   object \n",
      " 22  Overall Survival (Months)       1981 non-null   float64\n",
      " 23  Overall Survival Status         2509 non-null   int64  \n",
      " 24  PR Status                       1980 non-null   object \n",
      " 25  Radio Therapy                   1980 non-null   object \n",
      " 26  Relapse Free Status (Months)    2388 non-null   float64\n",
      " 27  Relapse Free Status             2488 non-null   object \n",
      " 28  Sex                             2509 non-null   object \n",
      " 29  3-Gene classifier subtype       1764 non-null   object \n",
      " 30  Tumor Size                      2360 non-null   float64\n",
      " 31  Tumor Stage                     1788 non-null   float64\n",
      " 32  Patient's Vital Status          1980 non-null   object \n",
      "dtypes: float64(10), int64(1), object(22)\n",
      "memory usage: 647.0+ KB\n"
     ]
    }
   ],
   "source": [
    "df.info()"
   ]
  },
  {
   "cell_type": "code",
   "execution_count": 29,
   "metadata": {},
   "outputs": [
    {
     "data": {
      "text/plain": [
       "Age at Diagnosis                    0\n",
       "Type of Breast Surgery            554\n",
       "Cancer Type                         0\n",
       "Cancer Type Detailed                0\n",
       "Cellularity                       592\n",
       "Chemotherapy                      529\n",
       "Pam50 + Claudin-low subtype       529\n",
       "Cohort                             11\n",
       "ER status measured by IHC          83\n",
       "ER Status                          40\n",
       "Neoplasm Histologic Grade         121\n",
       "HER2 status measured by SNP6      529\n",
       "HER2 Status                       529\n",
       "Tumor Other Histologic Subtype    135\n",
       "Hormone Therapy                   529\n",
       "Inferred Menopausal State         529\n",
       "Integrative Cluster               529\n",
       "Primary Tumor Laterality          639\n",
       "Lymph nodes examined positive     266\n",
       "Mutation Count                    152\n",
       "Nottingham prognostic index       222\n",
       "Oncotree Code                       0\n",
       "Overall Survival (Months)         528\n",
       "Overall Survival Status             0\n",
       "PR Status                         529\n",
       "Radio Therapy                     529\n",
       "Relapse Free Status (Months)      121\n",
       "Relapse Free Status                21\n",
       "Sex                                 0\n",
       "3-Gene classifier subtype         745\n",
       "Tumor Size                        149\n",
       "Tumor Stage                       721\n",
       "Patient's Vital Status            529\n",
       "dtype: int64"
      ]
     },
     "execution_count": 29,
     "metadata": {},
     "output_type": "execute_result"
    }
   ],
   "source": [
    "df.isnull().sum()"
   ]
  },
  {
   "cell_type": "code",
   "execution_count": 30,
   "metadata": {},
   "outputs": [
    {
     "data": {
      "text/plain": [
       "array(['Mastectomy', 'Breast Conserving', nan], dtype=object)"
      ]
     },
     "execution_count": 30,
     "metadata": {},
     "output_type": "execute_result"
    }
   ],
   "source": [
    "df['Type of Breast Surgery'].unique()"
   ]
  },
  {
   "cell_type": "code",
   "execution_count": 31,
   "metadata": {},
   "outputs": [
    {
     "data": {
      "text/plain": [
       "0    Mastectomy\n",
       "Name: Type of Breast Surgery, dtype: object"
      ]
     },
     "execution_count": 31,
     "metadata": {},
     "output_type": "execute_result"
    }
   ],
   "source": [
    "df['Type of Breast Surgery'].mode()"
   ]
  },
  {
   "cell_type": "code",
   "execution_count": 32,
   "metadata": {},
   "outputs": [],
   "source": [
    "df['Type of Breast Surgery']=df['Type of Breast Surgery'].map({'Mastectomy':1, 'Breast Conserving':0, np.nan:1})"
   ]
  },
  {
   "cell_type": "code",
   "execution_count": 33,
   "metadata": {},
   "outputs": [
    {
     "data": {
      "text/plain": [
       "array([1, 0])"
      ]
     },
     "execution_count": 33,
     "metadata": {},
     "output_type": "execute_result"
    }
   ],
   "source": [
    "df['Type of Breast Surgery'].unique()"
   ]
  },
  {
   "cell_type": "code",
   "execution_count": 34,
   "metadata": {},
   "outputs": [],
   "source": [
    "df['Type of Breast Surgery']=df['Type of Breast Surgery'].astype(int)"
   ]
  },
  {
   "cell_type": "code",
   "execution_count": 35,
   "metadata": {},
   "outputs": [
    {
     "name": "stdout",
     "output_type": "stream",
     "text": [
      "<class 'pandas.core.frame.DataFrame'>\n",
      "RangeIndex: 2509 entries, 0 to 2508\n",
      "Data columns (total 33 columns):\n",
      " #   Column                          Non-Null Count  Dtype  \n",
      "---  ------                          --------------  -----  \n",
      " 0   Age at Diagnosis                2509 non-null   float64\n",
      " 1   Type of Breast Surgery          2509 non-null   int64  \n",
      " 2   Cancer Type                     2509 non-null   object \n",
      " 3   Cancer Type Detailed            2509 non-null   object \n",
      " 4   Cellularity                     1917 non-null   object \n",
      " 5   Chemotherapy                    1980 non-null   object \n",
      " 6   Pam50 + Claudin-low subtype     1980 non-null   object \n",
      " 7   Cohort                          2498 non-null   float64\n",
      " 8   ER status measured by IHC       2426 non-null   object \n",
      " 9   ER Status                       2469 non-null   object \n",
      " 10  Neoplasm Histologic Grade       2388 non-null   float64\n",
      " 11  HER2 status measured by SNP6    1980 non-null   object \n",
      " 12  HER2 Status                     1980 non-null   object \n",
      " 13  Tumor Other Histologic Subtype  2374 non-null   object \n",
      " 14  Hormone Therapy                 1980 non-null   object \n",
      " 15  Inferred Menopausal State       1980 non-null   object \n",
      " 16  Integrative Cluster             1980 non-null   object \n",
      " 17  Primary Tumor Laterality        1870 non-null   object \n",
      " 18  Lymph nodes examined positive   2243 non-null   float64\n",
      " 19  Mutation Count                  2357 non-null   float64\n",
      " 20  Nottingham prognostic index     2287 non-null   float64\n",
      " 21  Oncotree Code                   2509 non-null   object \n",
      " 22  Overall Survival (Months)       1981 non-null   float64\n",
      " 23  Overall Survival Status         2509 non-null   int64  \n",
      " 24  PR Status                       1980 non-null   object \n",
      " 25  Radio Therapy                   1980 non-null   object \n",
      " 26  Relapse Free Status (Months)    2388 non-null   float64\n",
      " 27  Relapse Free Status             2488 non-null   object \n",
      " 28  Sex                             2509 non-null   object \n",
      " 29  3-Gene classifier subtype       1764 non-null   object \n",
      " 30  Tumor Size                      2360 non-null   float64\n",
      " 31  Tumor Stage                     1788 non-null   float64\n",
      " 32  Patient's Vital Status          1980 non-null   object \n",
      "dtypes: float64(10), int64(2), object(21)\n",
      "memory usage: 647.0+ KB\n"
     ]
    }
   ],
   "source": [
    "df.info()"
   ]
  },
  {
   "cell_type": "code",
   "execution_count": 36,
   "metadata": {},
   "outputs": [
    {
     "data": {
      "text/plain": [
       "array(['Breast Cancer', 'Breast Sarcoma'], dtype=object)"
      ]
     },
     "execution_count": 36,
     "metadata": {},
     "output_type": "execute_result"
    }
   ],
   "source": [
    "df['Cancer Type'].unique()"
   ]
  },
  {
   "cell_type": "code",
   "execution_count": 37,
   "metadata": {},
   "outputs": [
    {
     "data": {
      "text/plain": [
       "Cancer Type\n",
       "Breast Cancer     2506\n",
       "Breast Sarcoma       3\n",
       "Name: count, dtype: int64"
      ]
     },
     "execution_count": 37,
     "metadata": {},
     "output_type": "execute_result"
    }
   ],
   "source": [
    "df['Cancer Type'].value_counts()"
   ]
  },
  {
   "cell_type": "code",
   "execution_count": 38,
   "metadata": {},
   "outputs": [],
   "source": [
    "df['Cancer Type']=df['Cancer Type'].map({'Breast Cancer':1, 'Breast Sarcoma':0})"
   ]
  },
  {
   "cell_type": "code",
   "execution_count": 39,
   "metadata": {},
   "outputs": [
    {
     "data": {
      "text/plain": [
       "Cancer Type\n",
       "1    2506\n",
       "0       3\n",
       "Name: count, dtype: int64"
      ]
     },
     "execution_count": 39,
     "metadata": {},
     "output_type": "execute_result"
    }
   ],
   "source": [
    "df['Cancer Type'].value_counts()"
   ]
  },
  {
   "cell_type": "code",
   "execution_count": 40,
   "metadata": {},
   "outputs": [],
   "source": [
    "df['Cancer Type']=df['Cancer Type'].astype(int)"
   ]
  },
  {
   "cell_type": "code",
   "execution_count": 41,
   "metadata": {},
   "outputs": [
    {
     "name": "stdout",
     "output_type": "stream",
     "text": [
      "<class 'pandas.core.frame.DataFrame'>\n",
      "RangeIndex: 2509 entries, 0 to 2508\n",
      "Data columns (total 33 columns):\n",
      " #   Column                          Non-Null Count  Dtype  \n",
      "---  ------                          --------------  -----  \n",
      " 0   Age at Diagnosis                2509 non-null   float64\n",
      " 1   Type of Breast Surgery          2509 non-null   int64  \n",
      " 2   Cancer Type                     2509 non-null   int64  \n",
      " 3   Cancer Type Detailed            2509 non-null   object \n",
      " 4   Cellularity                     1917 non-null   object \n",
      " 5   Chemotherapy                    1980 non-null   object \n",
      " 6   Pam50 + Claudin-low subtype     1980 non-null   object \n",
      " 7   Cohort                          2498 non-null   float64\n",
      " 8   ER status measured by IHC       2426 non-null   object \n",
      " 9   ER Status                       2469 non-null   object \n",
      " 10  Neoplasm Histologic Grade       2388 non-null   float64\n",
      " 11  HER2 status measured by SNP6    1980 non-null   object \n",
      " 12  HER2 Status                     1980 non-null   object \n",
      " 13  Tumor Other Histologic Subtype  2374 non-null   object \n",
      " 14  Hormone Therapy                 1980 non-null   object \n",
      " 15  Inferred Menopausal State       1980 non-null   object \n",
      " 16  Integrative Cluster             1980 non-null   object \n",
      " 17  Primary Tumor Laterality        1870 non-null   object \n",
      " 18  Lymph nodes examined positive   2243 non-null   float64\n",
      " 19  Mutation Count                  2357 non-null   float64\n",
      " 20  Nottingham prognostic index     2287 non-null   float64\n",
      " 21  Oncotree Code                   2509 non-null   object \n",
      " 22  Overall Survival (Months)       1981 non-null   float64\n",
      " 23  Overall Survival Status         2509 non-null   int64  \n",
      " 24  PR Status                       1980 non-null   object \n",
      " 25  Radio Therapy                   1980 non-null   object \n",
      " 26  Relapse Free Status (Months)    2388 non-null   float64\n",
      " 27  Relapse Free Status             2488 non-null   object \n",
      " 28  Sex                             2509 non-null   object \n",
      " 29  3-Gene classifier subtype       1764 non-null   object \n",
      " 30  Tumor Size                      2360 non-null   float64\n",
      " 31  Tumor Stage                     1788 non-null   float64\n",
      " 32  Patient's Vital Status          1980 non-null   object \n",
      "dtypes: float64(10), int64(3), object(20)\n",
      "memory usage: 647.0+ KB\n"
     ]
    }
   ],
   "source": [
    "df.info()"
   ]
  },
  {
   "cell_type": "code",
   "execution_count": 42,
   "metadata": {},
   "outputs": [
    {
     "data": {
      "text/plain": [
       "array(['Breast Invasive Ductal Carcinoma',\n",
       "       'Breast Mixed Ductal and Lobular Carcinoma',\n",
       "       'Breast Invasive Lobular Carcinoma', 'Invasive Breast Carcinoma',\n",
       "       'Breast Invasive Mixed Mucinous Carcinoma', 'Breast Angiosarcoma',\n",
       "       'Breast', 'Metaplastic Breast Cancer'], dtype=object)"
      ]
     },
     "execution_count": 42,
     "metadata": {},
     "output_type": "execute_result"
    }
   ],
   "source": [
    "df['Cancer Type Detailed'].unique()"
   ]
  },
  {
   "cell_type": "code",
   "execution_count": 43,
   "metadata": {},
   "outputs": [
    {
     "data": {
      "text/plain": [
       "Cancer Type Detailed\n",
       "Breast Invasive Ductal Carcinoma             1865\n",
       "Breast Mixed Ductal and Lobular Carcinoma     269\n",
       "Breast Invasive Lobular Carcinoma             192\n",
       "Invasive Breast Carcinoma                     133\n",
       "Breast Invasive Mixed Mucinous Carcinoma       25\n",
       "Breast                                         21\n",
       "Breast Angiosarcoma                             2\n",
       "Metaplastic Breast Cancer                       2\n",
       "Name: count, dtype: int64"
      ]
     },
     "execution_count": 43,
     "metadata": {},
     "output_type": "execute_result"
    }
   ],
   "source": [
    "df['Cancer Type Detailed'].value_counts()"
   ]
  },
  {
   "cell_type": "code",
   "execution_count": 44,
   "metadata": {},
   "outputs": [],
   "source": [
    "encoded=df.groupby('Cancer Type Detailed')['Overall Survival Status'].mean()"
   ]
  },
  {
   "cell_type": "code",
   "execution_count": 45,
   "metadata": {},
   "outputs": [],
   "source": [
    "df['Cancer_Type_Detailed']=df['Cancer Type Detailed'].map(encoded)"
   ]
  },
  {
   "cell_type": "code",
   "execution_count": 46,
   "metadata": {},
   "outputs": [],
   "source": [
    "df.drop('Cancer Type Detailed', axis=1, inplace=True)"
   ]
  },
  {
   "cell_type": "code",
   "execution_count": 47,
   "metadata": {},
   "outputs": [
    {
     "data": {
      "text/plain": [
       "0       0.653083\n",
       "1       0.653083\n",
       "2       0.653083\n",
       "3       0.706320\n",
       "4       0.706320\n",
       "          ...   \n",
       "2504    0.819549\n",
       "2505    0.819549\n",
       "2506    0.819549\n",
       "2507    0.819549\n",
       "2508    0.819549\n",
       "Name: Cancer_Type_Detailed, Length: 2509, dtype: float64"
      ]
     },
     "execution_count": 47,
     "metadata": {},
     "output_type": "execute_result"
    }
   ],
   "source": [
    "df['Cancer_Type_Detailed']"
   ]
  },
  {
   "cell_type": "code",
   "execution_count": 48,
   "metadata": {},
   "outputs": [],
   "source": [
    "df['Cancer_Type_Detailed']=df['Cancer_Type_Detailed'].astype(float)"
   ]
  },
  {
   "cell_type": "code",
   "execution_count": 49,
   "metadata": {},
   "outputs": [
    {
     "name": "stdout",
     "output_type": "stream",
     "text": [
      "<class 'pandas.core.frame.DataFrame'>\n",
      "RangeIndex: 2509 entries, 0 to 2508\n",
      "Data columns (total 33 columns):\n",
      " #   Column                          Non-Null Count  Dtype  \n",
      "---  ------                          --------------  -----  \n",
      " 0   Age at Diagnosis                2509 non-null   float64\n",
      " 1   Type of Breast Surgery          2509 non-null   int64  \n",
      " 2   Cancer Type                     2509 non-null   int64  \n",
      " 3   Cellularity                     1917 non-null   object \n",
      " 4   Chemotherapy                    1980 non-null   object \n",
      " 5   Pam50 + Claudin-low subtype     1980 non-null   object \n",
      " 6   Cohort                          2498 non-null   float64\n",
      " 7   ER status measured by IHC       2426 non-null   object \n",
      " 8   ER Status                       2469 non-null   object \n",
      " 9   Neoplasm Histologic Grade       2388 non-null   float64\n",
      " 10  HER2 status measured by SNP6    1980 non-null   object \n",
      " 11  HER2 Status                     1980 non-null   object \n",
      " 12  Tumor Other Histologic Subtype  2374 non-null   object \n",
      " 13  Hormone Therapy                 1980 non-null   object \n",
      " 14  Inferred Menopausal State       1980 non-null   object \n",
      " 15  Integrative Cluster             1980 non-null   object \n",
      " 16  Primary Tumor Laterality        1870 non-null   object \n",
      " 17  Lymph nodes examined positive   2243 non-null   float64\n",
      " 18  Mutation Count                  2357 non-null   float64\n",
      " 19  Nottingham prognostic index     2287 non-null   float64\n",
      " 20  Oncotree Code                   2509 non-null   object \n",
      " 21  Overall Survival (Months)       1981 non-null   float64\n",
      " 22  Overall Survival Status         2509 non-null   int64  \n",
      " 23  PR Status                       1980 non-null   object \n",
      " 24  Radio Therapy                   1980 non-null   object \n",
      " 25  Relapse Free Status (Months)    2388 non-null   float64\n",
      " 26  Relapse Free Status             2488 non-null   object \n",
      " 27  Sex                             2509 non-null   object \n",
      " 28  3-Gene classifier subtype       1764 non-null   object \n",
      " 29  Tumor Size                      2360 non-null   float64\n",
      " 30  Tumor Stage                     1788 non-null   float64\n",
      " 31  Patient's Vital Status          1980 non-null   object \n",
      " 32  Cancer_Type_Detailed            2509 non-null   float64\n",
      "dtypes: float64(11), int64(3), object(19)\n",
      "memory usage: 647.0+ KB\n"
     ]
    }
   ],
   "source": [
    "df.info()"
   ]
  },
  {
   "cell_type": "code",
   "execution_count": 50,
   "metadata": {},
   "outputs": [
    {
     "data": {
      "text/plain": [
       "array([nan, 'High', 'Moderate', 'Low'], dtype=object)"
      ]
     },
     "execution_count": 50,
     "metadata": {},
     "output_type": "execute_result"
    }
   ],
   "source": [
    "df['Cellularity'].unique()"
   ]
  },
  {
   "cell_type": "code",
   "execution_count": 51,
   "metadata": {},
   "outputs": [
    {
     "data": {
      "text/plain": [
       "Cellularity\n",
       "High        965\n",
       "Moderate    737\n",
       "Low         215\n",
       "Name: count, dtype: int64"
      ]
     },
     "execution_count": 51,
     "metadata": {},
     "output_type": "execute_result"
    }
   ],
   "source": [
    "df['Cellularity'].value_counts()"
   ]
  },
  {
   "cell_type": "code",
   "execution_count": 52,
   "metadata": {},
   "outputs": [
    {
     "data": {
      "text/plain": [
       "np.int64(592)"
      ]
     },
     "execution_count": 52,
     "metadata": {},
     "output_type": "execute_result"
    }
   ],
   "source": [
    "df['Cellularity'].isnull().sum()"
   ]
  },
  {
   "cell_type": "code",
   "execution_count": 53,
   "metadata": {},
   "outputs": [],
   "source": [
    "df['Cellularity']=df['Cellularity'].map({np.nan:1, 'High':1, 'Moderate':2, 'Low':0})"
   ]
  },
  {
   "cell_type": "code",
   "execution_count": 54,
   "metadata": {},
   "outputs": [
    {
     "data": {
      "text/plain": [
       "np.int64(0)"
      ]
     },
     "execution_count": 54,
     "metadata": {},
     "output_type": "execute_result"
    }
   ],
   "source": [
    "df['Cellularity'].isnull().sum()"
   ]
  },
  {
   "cell_type": "code",
   "execution_count": 55,
   "metadata": {},
   "outputs": [],
   "source": [
    "df['Cellularity']=df['Cellularity'].astype(int)"
   ]
  },
  {
   "cell_type": "code",
   "execution_count": 56,
   "metadata": {},
   "outputs": [
    {
     "name": "stdout",
     "output_type": "stream",
     "text": [
      "<class 'pandas.core.frame.DataFrame'>\n",
      "RangeIndex: 2509 entries, 0 to 2508\n",
      "Data columns (total 33 columns):\n",
      " #   Column                          Non-Null Count  Dtype  \n",
      "---  ------                          --------------  -----  \n",
      " 0   Age at Diagnosis                2509 non-null   float64\n",
      " 1   Type of Breast Surgery          2509 non-null   int64  \n",
      " 2   Cancer Type                     2509 non-null   int64  \n",
      " 3   Cellularity                     2509 non-null   int64  \n",
      " 4   Chemotherapy                    1980 non-null   object \n",
      " 5   Pam50 + Claudin-low subtype     1980 non-null   object \n",
      " 6   Cohort                          2498 non-null   float64\n",
      " 7   ER status measured by IHC       2426 non-null   object \n",
      " 8   ER Status                       2469 non-null   object \n",
      " 9   Neoplasm Histologic Grade       2388 non-null   float64\n",
      " 10  HER2 status measured by SNP6    1980 non-null   object \n",
      " 11  HER2 Status                     1980 non-null   object \n",
      " 12  Tumor Other Histologic Subtype  2374 non-null   object \n",
      " 13  Hormone Therapy                 1980 non-null   object \n",
      " 14  Inferred Menopausal State       1980 non-null   object \n",
      " 15  Integrative Cluster             1980 non-null   object \n",
      " 16  Primary Tumor Laterality        1870 non-null   object \n",
      " 17  Lymph nodes examined positive   2243 non-null   float64\n",
      " 18  Mutation Count                  2357 non-null   float64\n",
      " 19  Nottingham prognostic index     2287 non-null   float64\n",
      " 20  Oncotree Code                   2509 non-null   object \n",
      " 21  Overall Survival (Months)       1981 non-null   float64\n",
      " 22  Overall Survival Status         2509 non-null   int64  \n",
      " 23  PR Status                       1980 non-null   object \n",
      " 24  Radio Therapy                   1980 non-null   object \n",
      " 25  Relapse Free Status (Months)    2388 non-null   float64\n",
      " 26  Relapse Free Status             2488 non-null   object \n",
      " 27  Sex                             2509 non-null   object \n",
      " 28  3-Gene classifier subtype       1764 non-null   object \n",
      " 29  Tumor Size                      2360 non-null   float64\n",
      " 30  Tumor Stage                     1788 non-null   float64\n",
      " 31  Patient's Vital Status          1980 non-null   object \n",
      " 32  Cancer_Type_Detailed            2509 non-null   float64\n",
      "dtypes: float64(11), int64(4), object(18)\n",
      "memory usage: 647.0+ KB\n"
     ]
    }
   ],
   "source": [
    "df.info()"
   ]
  },
  {
   "cell_type": "code",
   "execution_count": 57,
   "metadata": {},
   "outputs": [
    {
     "data": {
      "text/plain": [
       "array(['No', 'Yes', nan], dtype=object)"
      ]
     },
     "execution_count": 57,
     "metadata": {},
     "output_type": "execute_result"
    }
   ],
   "source": [
    "df['Chemotherapy'].unique()"
   ]
  },
  {
   "cell_type": "code",
   "execution_count": 58,
   "metadata": {},
   "outputs": [
    {
     "data": {
      "text/plain": [
       "Chemotherapy\n",
       "No     1568\n",
       "Yes     412\n",
       "Name: count, dtype: int64"
      ]
     },
     "execution_count": 58,
     "metadata": {},
     "output_type": "execute_result"
    }
   ],
   "source": [
    "df['Chemotherapy'].value_counts()"
   ]
  },
  {
   "cell_type": "code",
   "execution_count": 59,
   "metadata": {},
   "outputs": [
    {
     "data": {
      "text/plain": [
       "np.int64(529)"
      ]
     },
     "execution_count": 59,
     "metadata": {},
     "output_type": "execute_result"
    }
   ],
   "source": [
    "df['Chemotherapy'].isnull().sum()"
   ]
  },
  {
   "cell_type": "code",
   "execution_count": 60,
   "metadata": {},
   "outputs": [],
   "source": [
    "df['Chemotherapy']=df['Chemotherapy'].map({np.nan:1,'No':1, 'Yes' :0})"
   ]
  },
  {
   "cell_type": "code",
   "execution_count": 61,
   "metadata": {},
   "outputs": [
    {
     "data": {
      "text/plain": [
       "array([1, 0])"
      ]
     },
     "execution_count": 61,
     "metadata": {},
     "output_type": "execute_result"
    }
   ],
   "source": [
    "df['Chemotherapy'].unique()"
   ]
  },
  {
   "cell_type": "code",
   "execution_count": 62,
   "metadata": {},
   "outputs": [
    {
     "data": {
      "text/plain": [
       "np.int64(0)"
      ]
     },
     "execution_count": 62,
     "metadata": {},
     "output_type": "execute_result"
    }
   ],
   "source": [
    "df['Chemotherapy'].isnull().sum()"
   ]
  },
  {
   "cell_type": "code",
   "execution_count": 63,
   "metadata": {},
   "outputs": [],
   "source": [
    "df['Chemotherapy']=df['Chemotherapy'].astype(int)"
   ]
  },
  {
   "cell_type": "code",
   "execution_count": 64,
   "metadata": {},
   "outputs": [
    {
     "data": {
      "text/html": [
       "<div>\n",
       "<style scoped>\n",
       "    .dataframe tbody tr th:only-of-type {\n",
       "        vertical-align: middle;\n",
       "    }\n",
       "\n",
       "    .dataframe tbody tr th {\n",
       "        vertical-align: top;\n",
       "    }\n",
       "\n",
       "    .dataframe thead th {\n",
       "        text-align: right;\n",
       "    }\n",
       "</style>\n",
       "<table border=\"1\" class=\"dataframe\">\n",
       "  <thead>\n",
       "    <tr style=\"text-align: right;\">\n",
       "      <th></th>\n",
       "      <th>Age at Diagnosis</th>\n",
       "      <th>Type of Breast Surgery</th>\n",
       "      <th>Cancer Type</th>\n",
       "      <th>Cellularity</th>\n",
       "      <th>Chemotherapy</th>\n",
       "      <th>Pam50 + Claudin-low subtype</th>\n",
       "      <th>Cohort</th>\n",
       "      <th>ER status measured by IHC</th>\n",
       "      <th>ER Status</th>\n",
       "      <th>Neoplasm Histologic Grade</th>\n",
       "      <th>...</th>\n",
       "      <th>PR Status</th>\n",
       "      <th>Radio Therapy</th>\n",
       "      <th>Relapse Free Status (Months)</th>\n",
       "      <th>Relapse Free Status</th>\n",
       "      <th>Sex</th>\n",
       "      <th>3-Gene classifier subtype</th>\n",
       "      <th>Tumor Size</th>\n",
       "      <th>Tumor Stage</th>\n",
       "      <th>Patient's Vital Status</th>\n",
       "      <th>Cancer_Type_Detailed</th>\n",
       "    </tr>\n",
       "  </thead>\n",
       "  <tbody>\n",
       "    <tr>\n",
       "      <th>0</th>\n",
       "      <td>75.65</td>\n",
       "      <td>1</td>\n",
       "      <td>1</td>\n",
       "      <td>1</td>\n",
       "      <td>1</td>\n",
       "      <td>claudin-low</td>\n",
       "      <td>1.0</td>\n",
       "      <td>Positve</td>\n",
       "      <td>Positive</td>\n",
       "      <td>3.0</td>\n",
       "      <td>...</td>\n",
       "      <td>Negative</td>\n",
       "      <td>Yes</td>\n",
       "      <td>138.65</td>\n",
       "      <td>Not Recurred</td>\n",
       "      <td>Female</td>\n",
       "      <td>ER-/HER2-</td>\n",
       "      <td>22.0</td>\n",
       "      <td>2.0</td>\n",
       "      <td>Living</td>\n",
       "      <td>0.653083</td>\n",
       "    </tr>\n",
       "    <tr>\n",
       "      <th>1</th>\n",
       "      <td>43.19</td>\n",
       "      <td>0</td>\n",
       "      <td>1</td>\n",
       "      <td>1</td>\n",
       "      <td>1</td>\n",
       "      <td>LumA</td>\n",
       "      <td>1.0</td>\n",
       "      <td>Positve</td>\n",
       "      <td>Positive</td>\n",
       "      <td>3.0</td>\n",
       "      <td>...</td>\n",
       "      <td>Positive</td>\n",
       "      <td>Yes</td>\n",
       "      <td>83.52</td>\n",
       "      <td>Not Recurred</td>\n",
       "      <td>Female</td>\n",
       "      <td>ER+/HER2- High Prolif</td>\n",
       "      <td>10.0</td>\n",
       "      <td>1.0</td>\n",
       "      <td>Living</td>\n",
       "      <td>0.653083</td>\n",
       "    </tr>\n",
       "    <tr>\n",
       "      <th>2</th>\n",
       "      <td>48.87</td>\n",
       "      <td>1</td>\n",
       "      <td>1</td>\n",
       "      <td>1</td>\n",
       "      <td>0</td>\n",
       "      <td>LumB</td>\n",
       "      <td>1.0</td>\n",
       "      <td>Positve</td>\n",
       "      <td>Positive</td>\n",
       "      <td>2.0</td>\n",
       "      <td>...</td>\n",
       "      <td>Positive</td>\n",
       "      <td>No</td>\n",
       "      <td>151.28</td>\n",
       "      <td>Recurred</td>\n",
       "      <td>Female</td>\n",
       "      <td>NaN</td>\n",
       "      <td>15.0</td>\n",
       "      <td>2.0</td>\n",
       "      <td>Died of Disease</td>\n",
       "      <td>0.653083</td>\n",
       "    </tr>\n",
       "    <tr>\n",
       "      <th>3</th>\n",
       "      <td>47.68</td>\n",
       "      <td>1</td>\n",
       "      <td>1</td>\n",
       "      <td>2</td>\n",
       "      <td>0</td>\n",
       "      <td>LumB</td>\n",
       "      <td>1.0</td>\n",
       "      <td>Positve</td>\n",
       "      <td>Positive</td>\n",
       "      <td>2.0</td>\n",
       "      <td>...</td>\n",
       "      <td>Positive</td>\n",
       "      <td>Yes</td>\n",
       "      <td>162.76</td>\n",
       "      <td>Not Recurred</td>\n",
       "      <td>Female</td>\n",
       "      <td>NaN</td>\n",
       "      <td>25.0</td>\n",
       "      <td>2.0</td>\n",
       "      <td>Living</td>\n",
       "      <td>0.706320</td>\n",
       "    </tr>\n",
       "    <tr>\n",
       "      <th>4</th>\n",
       "      <td>76.97</td>\n",
       "      <td>1</td>\n",
       "      <td>1</td>\n",
       "      <td>1</td>\n",
       "      <td>0</td>\n",
       "      <td>LumB</td>\n",
       "      <td>1.0</td>\n",
       "      <td>Positve</td>\n",
       "      <td>Positive</td>\n",
       "      <td>3.0</td>\n",
       "      <td>...</td>\n",
       "      <td>Positive</td>\n",
       "      <td>Yes</td>\n",
       "      <td>18.55</td>\n",
       "      <td>Recurred</td>\n",
       "      <td>Female</td>\n",
       "      <td>ER+/HER2- High Prolif</td>\n",
       "      <td>40.0</td>\n",
       "      <td>2.0</td>\n",
       "      <td>Died of Disease</td>\n",
       "      <td>0.706320</td>\n",
       "    </tr>\n",
       "  </tbody>\n",
       "</table>\n",
       "<p>5 rows × 33 columns</p>\n",
       "</div>"
      ],
      "text/plain": [
       "   Age at Diagnosis  Type of Breast Surgery  Cancer Type  Cellularity  \\\n",
       "0             75.65                       1            1            1   \n",
       "1             43.19                       0            1            1   \n",
       "2             48.87                       1            1            1   \n",
       "3             47.68                       1            1            2   \n",
       "4             76.97                       1            1            1   \n",
       "\n",
       "   Chemotherapy Pam50 + Claudin-low subtype  Cohort ER status measured by IHC  \\\n",
       "0             1                 claudin-low     1.0                   Positve   \n",
       "1             1                        LumA     1.0                   Positve   \n",
       "2             0                        LumB     1.0                   Positve   \n",
       "3             0                        LumB     1.0                   Positve   \n",
       "4             0                        LumB     1.0                   Positve   \n",
       "\n",
       "  ER Status  Neoplasm Histologic Grade  ... PR Status Radio Therapy  \\\n",
       "0  Positive                        3.0  ...  Negative           Yes   \n",
       "1  Positive                        3.0  ...  Positive           Yes   \n",
       "2  Positive                        2.0  ...  Positive            No   \n",
       "3  Positive                        2.0  ...  Positive           Yes   \n",
       "4  Positive                        3.0  ...  Positive           Yes   \n",
       "\n",
       "  Relapse Free Status (Months) Relapse Free Status     Sex  \\\n",
       "0                       138.65        Not Recurred  Female   \n",
       "1                        83.52        Not Recurred  Female   \n",
       "2                       151.28            Recurred  Female   \n",
       "3                       162.76        Not Recurred  Female   \n",
       "4                        18.55            Recurred  Female   \n",
       "\n",
       "  3-Gene classifier subtype Tumor Size  Tumor Stage  Patient's Vital Status  \\\n",
       "0                 ER-/HER2-       22.0          2.0                  Living   \n",
       "1     ER+/HER2- High Prolif       10.0          1.0                  Living   \n",
       "2                       NaN       15.0          2.0         Died of Disease   \n",
       "3                       NaN       25.0          2.0                  Living   \n",
       "4     ER+/HER2- High Prolif       40.0          2.0         Died of Disease   \n",
       "\n",
       "   Cancer_Type_Detailed  \n",
       "0              0.653083  \n",
       "1              0.653083  \n",
       "2              0.653083  \n",
       "3              0.706320  \n",
       "4              0.706320  \n",
       "\n",
       "[5 rows x 33 columns]"
      ]
     },
     "execution_count": 64,
     "metadata": {},
     "output_type": "execute_result"
    }
   ],
   "source": [
    "df.head()"
   ]
  },
  {
   "cell_type": "code",
   "execution_count": 65,
   "metadata": {},
   "outputs": [
    {
     "name": "stdout",
     "output_type": "stream",
     "text": [
      "<class 'pandas.core.frame.DataFrame'>\n",
      "RangeIndex: 2509 entries, 0 to 2508\n",
      "Data columns (total 33 columns):\n",
      " #   Column                          Non-Null Count  Dtype  \n",
      "---  ------                          --------------  -----  \n",
      " 0   Age at Diagnosis                2509 non-null   float64\n",
      " 1   Type of Breast Surgery          2509 non-null   int64  \n",
      " 2   Cancer Type                     2509 non-null   int64  \n",
      " 3   Cellularity                     2509 non-null   int64  \n",
      " 4   Chemotherapy                    2509 non-null   int64  \n",
      " 5   Pam50 + Claudin-low subtype     1980 non-null   object \n",
      " 6   Cohort                          2498 non-null   float64\n",
      " 7   ER status measured by IHC       2426 non-null   object \n",
      " 8   ER Status                       2469 non-null   object \n",
      " 9   Neoplasm Histologic Grade       2388 non-null   float64\n",
      " 10  HER2 status measured by SNP6    1980 non-null   object \n",
      " 11  HER2 Status                     1980 non-null   object \n",
      " 12  Tumor Other Histologic Subtype  2374 non-null   object \n",
      " 13  Hormone Therapy                 1980 non-null   object \n",
      " 14  Inferred Menopausal State       1980 non-null   object \n",
      " 15  Integrative Cluster             1980 non-null   object \n",
      " 16  Primary Tumor Laterality        1870 non-null   object \n",
      " 17  Lymph nodes examined positive   2243 non-null   float64\n",
      " 18  Mutation Count                  2357 non-null   float64\n",
      " 19  Nottingham prognostic index     2287 non-null   float64\n",
      " 20  Oncotree Code                   2509 non-null   object \n",
      " 21  Overall Survival (Months)       1981 non-null   float64\n",
      " 22  Overall Survival Status         2509 non-null   int64  \n",
      " 23  PR Status                       1980 non-null   object \n",
      " 24  Radio Therapy                   1980 non-null   object \n",
      " 25  Relapse Free Status (Months)    2388 non-null   float64\n",
      " 26  Relapse Free Status             2488 non-null   object \n",
      " 27  Sex                             2509 non-null   object \n",
      " 28  3-Gene classifier subtype       1764 non-null   object \n",
      " 29  Tumor Size                      2360 non-null   float64\n",
      " 30  Tumor Stage                     1788 non-null   float64\n",
      " 31  Patient's Vital Status          1980 non-null   object \n",
      " 32  Cancer_Type_Detailed            2509 non-null   float64\n",
      "dtypes: float64(11), int64(5), object(17)\n",
      "memory usage: 647.0+ KB\n"
     ]
    }
   ],
   "source": [
    "df.info()"
   ]
  },
  {
   "cell_type": "code",
   "execution_count": 66,
   "metadata": {},
   "outputs": [
    {
     "data": {
      "text/plain": [
       "array(['claudin-low', 'LumA', 'LumB', 'Normal', nan, 'Her2', 'Basal',\n",
       "       'NC'], dtype=object)"
      ]
     },
     "execution_count": 66,
     "metadata": {},
     "output_type": "execute_result"
    }
   ],
   "source": [
    "df['Pam50 + Claudin-low subtype'].unique()"
   ]
  },
  {
   "cell_type": "code",
   "execution_count": 67,
   "metadata": {},
   "outputs": [],
   "source": [
    "encoded1=df.groupby('Pam50 + Claudin-low subtype')['Overall Survival Status'].mean()"
   ]
  },
  {
   "cell_type": "code",
   "execution_count": 68,
   "metadata": {},
   "outputs": [],
   "source": [
    "df['CPam50low_subtype']=df['Pam50 + Claudin-low subtype'].map(encoded1)"
   ]
  },
  {
   "cell_type": "code",
   "execution_count": 69,
   "metadata": {},
   "outputs": [
    {
     "data": {
      "text/plain": [
       "array([0.43119266, 0.54      , 0.66315789, 0.53378378,        nan,\n",
       "       0.70089286, 0.55023923, 0.83333333])"
      ]
     },
     "execution_count": 69,
     "metadata": {},
     "output_type": "execute_result"
    }
   ],
   "source": [
    "df['CPam50low_subtype'].unique()"
   ]
  },
  {
   "cell_type": "code",
   "execution_count": 70,
   "metadata": {},
   "outputs": [],
   "source": [
    "mean1=df['CPam50low_subtype'].mean()"
   ]
  },
  {
   "cell_type": "code",
   "execution_count": 71,
   "metadata": {},
   "outputs": [
    {
     "data": {
      "text/plain": [
       "np.float64(0.5772727272727273)"
      ]
     },
     "execution_count": 71,
     "metadata": {},
     "output_type": "execute_result"
    }
   ],
   "source": [
    "mean1"
   ]
  },
  {
   "cell_type": "code",
   "execution_count": 72,
   "metadata": {},
   "outputs": [],
   "source": [
    "df['CPam50low_subtype']=df['CPam50low_subtype'].fillna(mean1)"
   ]
  },
  {
   "cell_type": "code",
   "execution_count": 73,
   "metadata": {},
   "outputs": [
    {
     "data": {
      "text/plain": [
       "array([0.43119266, 0.54      , 0.66315789, 0.53378378, 0.57727273,\n",
       "       0.70089286, 0.55023923, 0.83333333])"
      ]
     },
     "execution_count": 73,
     "metadata": {},
     "output_type": "execute_result"
    }
   ],
   "source": [
    "df['CPam50low_subtype'].unique()"
   ]
  },
  {
   "cell_type": "code",
   "execution_count": 74,
   "metadata": {},
   "outputs": [],
   "source": [
    "df['CPam50low_subtype']=df['CPam50low_subtype'].astype(float)\n"
   ]
  },
  {
   "cell_type": "code",
   "execution_count": 75,
   "metadata": {},
   "outputs": [
    {
     "name": "stdout",
     "output_type": "stream",
     "text": [
      "<class 'pandas.core.frame.DataFrame'>\n",
      "RangeIndex: 2509 entries, 0 to 2508\n",
      "Data columns (total 34 columns):\n",
      " #   Column                          Non-Null Count  Dtype  \n",
      "---  ------                          --------------  -----  \n",
      " 0   Age at Diagnosis                2509 non-null   float64\n",
      " 1   Type of Breast Surgery          2509 non-null   int64  \n",
      " 2   Cancer Type                     2509 non-null   int64  \n",
      " 3   Cellularity                     2509 non-null   int64  \n",
      " 4   Chemotherapy                    2509 non-null   int64  \n",
      " 5   Pam50 + Claudin-low subtype     1980 non-null   object \n",
      " 6   Cohort                          2498 non-null   float64\n",
      " 7   ER status measured by IHC       2426 non-null   object \n",
      " 8   ER Status                       2469 non-null   object \n",
      " 9   Neoplasm Histologic Grade       2388 non-null   float64\n",
      " 10  HER2 status measured by SNP6    1980 non-null   object \n",
      " 11  HER2 Status                     1980 non-null   object \n",
      " 12  Tumor Other Histologic Subtype  2374 non-null   object \n",
      " 13  Hormone Therapy                 1980 non-null   object \n",
      " 14  Inferred Menopausal State       1980 non-null   object \n",
      " 15  Integrative Cluster             1980 non-null   object \n",
      " 16  Primary Tumor Laterality        1870 non-null   object \n",
      " 17  Lymph nodes examined positive   2243 non-null   float64\n",
      " 18  Mutation Count                  2357 non-null   float64\n",
      " 19  Nottingham prognostic index     2287 non-null   float64\n",
      " 20  Oncotree Code                   2509 non-null   object \n",
      " 21  Overall Survival (Months)       1981 non-null   float64\n",
      " 22  Overall Survival Status         2509 non-null   int64  \n",
      " 23  PR Status                       1980 non-null   object \n",
      " 24  Radio Therapy                   1980 non-null   object \n",
      " 25  Relapse Free Status (Months)    2388 non-null   float64\n",
      " 26  Relapse Free Status             2488 non-null   object \n",
      " 27  Sex                             2509 non-null   object \n",
      " 28  3-Gene classifier subtype       1764 non-null   object \n",
      " 29  Tumor Size                      2360 non-null   float64\n",
      " 30  Tumor Stage                     1788 non-null   float64\n",
      " 31  Patient's Vital Status          1980 non-null   object \n",
      " 32  Cancer_Type_Detailed            2509 non-null   float64\n",
      " 33  CPam50low_subtype               2509 non-null   float64\n",
      "dtypes: float64(12), int64(5), object(17)\n",
      "memory usage: 666.6+ KB\n"
     ]
    }
   ],
   "source": [
    "df.info()"
   ]
  },
  {
   "cell_type": "code",
   "execution_count": 76,
   "metadata": {},
   "outputs": [],
   "source": [
    "df.drop('Pam50 + Claudin-low subtype', axis=1, inplace=True)"
   ]
  },
  {
   "cell_type": "code",
   "execution_count": 77,
   "metadata": {},
   "outputs": [
    {
     "name": "stdout",
     "output_type": "stream",
     "text": [
      "<class 'pandas.core.frame.DataFrame'>\n",
      "RangeIndex: 2509 entries, 0 to 2508\n",
      "Data columns (total 33 columns):\n",
      " #   Column                          Non-Null Count  Dtype  \n",
      "---  ------                          --------------  -----  \n",
      " 0   Age at Diagnosis                2509 non-null   float64\n",
      " 1   Type of Breast Surgery          2509 non-null   int64  \n",
      " 2   Cancer Type                     2509 non-null   int64  \n",
      " 3   Cellularity                     2509 non-null   int64  \n",
      " 4   Chemotherapy                    2509 non-null   int64  \n",
      " 5   Cohort                          2498 non-null   float64\n",
      " 6   ER status measured by IHC       2426 non-null   object \n",
      " 7   ER Status                       2469 non-null   object \n",
      " 8   Neoplasm Histologic Grade       2388 non-null   float64\n",
      " 9   HER2 status measured by SNP6    1980 non-null   object \n",
      " 10  HER2 Status                     1980 non-null   object \n",
      " 11  Tumor Other Histologic Subtype  2374 non-null   object \n",
      " 12  Hormone Therapy                 1980 non-null   object \n",
      " 13  Inferred Menopausal State       1980 non-null   object \n",
      " 14  Integrative Cluster             1980 non-null   object \n",
      " 15  Primary Tumor Laterality        1870 non-null   object \n",
      " 16  Lymph nodes examined positive   2243 non-null   float64\n",
      " 17  Mutation Count                  2357 non-null   float64\n",
      " 18  Nottingham prognostic index     2287 non-null   float64\n",
      " 19  Oncotree Code                   2509 non-null   object \n",
      " 20  Overall Survival (Months)       1981 non-null   float64\n",
      " 21  Overall Survival Status         2509 non-null   int64  \n",
      " 22  PR Status                       1980 non-null   object \n",
      " 23  Radio Therapy                   1980 non-null   object \n",
      " 24  Relapse Free Status (Months)    2388 non-null   float64\n",
      " 25  Relapse Free Status             2488 non-null   object \n",
      " 26  Sex                             2509 non-null   object \n",
      " 27  3-Gene classifier subtype       1764 non-null   object \n",
      " 28  Tumor Size                      2360 non-null   float64\n",
      " 29  Tumor Stage                     1788 non-null   float64\n",
      " 30  Patient's Vital Status          1980 non-null   object \n",
      " 31  Cancer_Type_Detailed            2509 non-null   float64\n",
      " 32  CPam50low_subtype               2509 non-null   float64\n",
      "dtypes: float64(12), int64(5), object(16)\n",
      "memory usage: 647.0+ KB\n"
     ]
    }
   ],
   "source": [
    "df.info()"
   ]
  },
  {
   "cell_type": "code",
   "execution_count": 78,
   "metadata": {},
   "outputs": [
    {
     "data": {
      "text/plain": [
       "array([ 1.,  2.,  3.,  5.,  4.,  9.,  7.,  6., nan,  8.])"
      ]
     },
     "execution_count": 78,
     "metadata": {},
     "output_type": "execute_result"
    }
   ],
   "source": [
    "df['Cohort'].unique()"
   ]
  },
  {
   "cell_type": "code",
   "execution_count": 79,
   "metadata": {},
   "outputs": [],
   "source": [
    "mean2=df['Cohort'].mean()"
   ]
  },
  {
   "cell_type": "code",
   "execution_count": 80,
   "metadata": {},
   "outputs": [
    {
     "data": {
      "text/plain": [
       "np.float64(2.900320256204964)"
      ]
     },
     "execution_count": 80,
     "metadata": {},
     "output_type": "execute_result"
    }
   ],
   "source": [
    "mean2"
   ]
  },
  {
   "cell_type": "code",
   "execution_count": 81,
   "metadata": {},
   "outputs": [
    {
     "data": {
      "text/plain": [
       "Cohort\n",
       "1.0    809\n",
       "3.0    763\n",
       "2.0    288\n",
       "4.0    238\n",
       "5.0    170\n",
       "7.0    105\n",
       "8.0     82\n",
       "9.0     40\n",
       "6.0      3\n",
       "Name: count, dtype: int64"
      ]
     },
     "execution_count": 81,
     "metadata": {},
     "output_type": "execute_result"
    }
   ],
   "source": [
    "df['Cohort'].value_counts()"
   ]
  },
  {
   "cell_type": "code",
   "execution_count": 82,
   "metadata": {},
   "outputs": [
    {
     "data": {
      "text/plain": [
       "np.int64(11)"
      ]
     },
     "execution_count": 82,
     "metadata": {},
     "output_type": "execute_result"
    }
   ],
   "source": [
    "df['Cohort'].isnull().sum()"
   ]
  },
  {
   "cell_type": "code",
   "execution_count": 83,
   "metadata": {},
   "outputs": [],
   "source": [
    "df['Cohort']=df['Cohort'].fillna(mean2)"
   ]
  },
  {
   "cell_type": "code",
   "execution_count": 84,
   "metadata": {},
   "outputs": [
    {
     "data": {
      "text/plain": [
       "np.int64(0)"
      ]
     },
     "execution_count": 84,
     "metadata": {},
     "output_type": "execute_result"
    }
   ],
   "source": [
    "df['Cohort'].isnull().sum()"
   ]
  },
  {
   "cell_type": "code",
   "execution_count": 85,
   "metadata": {},
   "outputs": [
    {
     "data": {
      "text/plain": [
       "array([1.        , 2.        , 3.        , 5.        , 4.        ,\n",
       "       9.        , 7.        , 6.        , 2.90032026, 8.        ])"
      ]
     },
     "execution_count": 85,
     "metadata": {},
     "output_type": "execute_result"
    }
   ],
   "source": [
    "df['Cohort'].unique()"
   ]
  },
  {
   "cell_type": "code",
   "execution_count": 86,
   "metadata": {},
   "outputs": [],
   "source": [
    "df['Cohort']=df['Cohort'].astype(float)"
   ]
  },
  {
   "cell_type": "code",
   "execution_count": 87,
   "metadata": {},
   "outputs": [
    {
     "name": "stdout",
     "output_type": "stream",
     "text": [
      "<class 'pandas.core.frame.DataFrame'>\n",
      "RangeIndex: 2509 entries, 0 to 2508\n",
      "Data columns (total 33 columns):\n",
      " #   Column                          Non-Null Count  Dtype  \n",
      "---  ------                          --------------  -----  \n",
      " 0   Age at Diagnosis                2509 non-null   float64\n",
      " 1   Type of Breast Surgery          2509 non-null   int64  \n",
      " 2   Cancer Type                     2509 non-null   int64  \n",
      " 3   Cellularity                     2509 non-null   int64  \n",
      " 4   Chemotherapy                    2509 non-null   int64  \n",
      " 5   Cohort                          2509 non-null   float64\n",
      " 6   ER status measured by IHC       2426 non-null   object \n",
      " 7   ER Status                       2469 non-null   object \n",
      " 8   Neoplasm Histologic Grade       2388 non-null   float64\n",
      " 9   HER2 status measured by SNP6    1980 non-null   object \n",
      " 10  HER2 Status                     1980 non-null   object \n",
      " 11  Tumor Other Histologic Subtype  2374 non-null   object \n",
      " 12  Hormone Therapy                 1980 non-null   object \n",
      " 13  Inferred Menopausal State       1980 non-null   object \n",
      " 14  Integrative Cluster             1980 non-null   object \n",
      " 15  Primary Tumor Laterality        1870 non-null   object \n",
      " 16  Lymph nodes examined positive   2243 non-null   float64\n",
      " 17  Mutation Count                  2357 non-null   float64\n",
      " 18  Nottingham prognostic index     2287 non-null   float64\n",
      " 19  Oncotree Code                   2509 non-null   object \n",
      " 20  Overall Survival (Months)       1981 non-null   float64\n",
      " 21  Overall Survival Status         2509 non-null   int64  \n",
      " 22  PR Status                       1980 non-null   object \n",
      " 23  Radio Therapy                   1980 non-null   object \n",
      " 24  Relapse Free Status (Months)    2388 non-null   float64\n",
      " 25  Relapse Free Status             2488 non-null   object \n",
      " 26  Sex                             2509 non-null   object \n",
      " 27  3-Gene classifier subtype       1764 non-null   object \n",
      " 28  Tumor Size                      2360 non-null   float64\n",
      " 29  Tumor Stage                     1788 non-null   float64\n",
      " 30  Patient's Vital Status          1980 non-null   object \n",
      " 31  Cancer_Type_Detailed            2509 non-null   float64\n",
      " 32  CPam50low_subtype               2509 non-null   float64\n",
      "dtypes: float64(12), int64(5), object(16)\n",
      "memory usage: 647.0+ KB\n"
     ]
    }
   ],
   "source": [
    "df.info()"
   ]
  },
  {
   "cell_type": "code",
   "execution_count": 88,
   "metadata": {},
   "outputs": [
    {
     "data": {
      "text/plain": [
       "array(['Positve', 'Negative', nan], dtype=object)"
      ]
     },
     "execution_count": 88,
     "metadata": {},
     "output_type": "execute_result"
    }
   ],
   "source": [
    "df['ER status measured by IHC'].unique()"
   ]
  },
  {
   "cell_type": "code",
   "execution_count": 89,
   "metadata": {},
   "outputs": [
    {
     "data": {
      "text/plain": [
       "0    Positve\n",
       "Name: ER status measured by IHC, dtype: object"
      ]
     },
     "execution_count": 89,
     "metadata": {},
     "output_type": "execute_result"
    }
   ],
   "source": [
    "df['ER status measured by IHC'].mode()"
   ]
  },
  {
   "cell_type": "code",
   "execution_count": 90,
   "metadata": {},
   "outputs": [
    {
     "data": {
      "text/plain": [
       "np.int64(83)"
      ]
     },
     "execution_count": 90,
     "metadata": {},
     "output_type": "execute_result"
    }
   ],
   "source": [
    "df['ER status measured by IHC'].isnull().sum()"
   ]
  },
  {
   "cell_type": "code",
   "execution_count": 91,
   "metadata": {},
   "outputs": [
    {
     "data": {
      "text/plain": [
       "ER status measured by IHC\n",
       "Positve     1817\n",
       "Negative     609\n",
       "Name: count, dtype: int64"
      ]
     },
     "execution_count": 91,
     "metadata": {},
     "output_type": "execute_result"
    }
   ],
   "source": [
    "df['ER status measured by IHC'].value_counts()"
   ]
  },
  {
   "cell_type": "code",
   "execution_count": 92,
   "metadata": {},
   "outputs": [],
   "source": [
    "df['ER status measured by IHC']=df['ER status measured by IHC'].map({'Positve':1, 'Negative':0, np.nan:1})"
   ]
  },
  {
   "cell_type": "code",
   "execution_count": 93,
   "metadata": {},
   "outputs": [
    {
     "data": {
      "text/plain": [
       "ER status measured by IHC\n",
       "1    1900\n",
       "0     609\n",
       "Name: count, dtype: int64"
      ]
     },
     "execution_count": 93,
     "metadata": {},
     "output_type": "execute_result"
    }
   ],
   "source": [
    "df['ER status measured by IHC'].value_counts()"
   ]
  },
  {
   "cell_type": "code",
   "execution_count": 94,
   "metadata": {},
   "outputs": [
    {
     "data": {
      "text/plain": [
       "np.int64(0)"
      ]
     },
     "execution_count": 94,
     "metadata": {},
     "output_type": "execute_result"
    }
   ],
   "source": [
    "df['ER status measured by IHC'].isnull().sum()"
   ]
  },
  {
   "cell_type": "code",
   "execution_count": 95,
   "metadata": {},
   "outputs": [],
   "source": [
    "df['ER status measured by IHC']=df['ER status measured by IHC'].astype(int)"
   ]
  },
  {
   "cell_type": "code",
   "execution_count": 96,
   "metadata": {},
   "outputs": [
    {
     "name": "stdout",
     "output_type": "stream",
     "text": [
      "<class 'pandas.core.frame.DataFrame'>\n",
      "RangeIndex: 2509 entries, 0 to 2508\n",
      "Data columns (total 33 columns):\n",
      " #   Column                          Non-Null Count  Dtype  \n",
      "---  ------                          --------------  -----  \n",
      " 0   Age at Diagnosis                2509 non-null   float64\n",
      " 1   Type of Breast Surgery          2509 non-null   int64  \n",
      " 2   Cancer Type                     2509 non-null   int64  \n",
      " 3   Cellularity                     2509 non-null   int64  \n",
      " 4   Chemotherapy                    2509 non-null   int64  \n",
      " 5   Cohort                          2509 non-null   float64\n",
      " 6   ER status measured by IHC       2509 non-null   int64  \n",
      " 7   ER Status                       2469 non-null   object \n",
      " 8   Neoplasm Histologic Grade       2388 non-null   float64\n",
      " 9   HER2 status measured by SNP6    1980 non-null   object \n",
      " 10  HER2 Status                     1980 non-null   object \n",
      " 11  Tumor Other Histologic Subtype  2374 non-null   object \n",
      " 12  Hormone Therapy                 1980 non-null   object \n",
      " 13  Inferred Menopausal State       1980 non-null   object \n",
      " 14  Integrative Cluster             1980 non-null   object \n",
      " 15  Primary Tumor Laterality        1870 non-null   object \n",
      " 16  Lymph nodes examined positive   2243 non-null   float64\n",
      " 17  Mutation Count                  2357 non-null   float64\n",
      " 18  Nottingham prognostic index     2287 non-null   float64\n",
      " 19  Oncotree Code                   2509 non-null   object \n",
      " 20  Overall Survival (Months)       1981 non-null   float64\n",
      " 21  Overall Survival Status         2509 non-null   int64  \n",
      " 22  PR Status                       1980 non-null   object \n",
      " 23  Radio Therapy                   1980 non-null   object \n",
      " 24  Relapse Free Status (Months)    2388 non-null   float64\n",
      " 25  Relapse Free Status             2488 non-null   object \n",
      " 26  Sex                             2509 non-null   object \n",
      " 27  3-Gene classifier subtype       1764 non-null   object \n",
      " 28  Tumor Size                      2360 non-null   float64\n",
      " 29  Tumor Stage                     1788 non-null   float64\n",
      " 30  Patient's Vital Status          1980 non-null   object \n",
      " 31  Cancer_Type_Detailed            2509 non-null   float64\n",
      " 32  CPam50low_subtype               2509 non-null   float64\n",
      "dtypes: float64(12), int64(6), object(15)\n",
      "memory usage: 647.0+ KB\n"
     ]
    }
   ],
   "source": [
    "df.info()"
   ]
  },
  {
   "cell_type": "code",
   "execution_count": 97,
   "metadata": {},
   "outputs": [
    {
     "data": {
      "text/plain": [
       "array(['Positive', 'Negative', nan], dtype=object)"
      ]
     },
     "execution_count": 97,
     "metadata": {},
     "output_type": "execute_result"
    }
   ],
   "source": [
    "df['ER Status'].unique()"
   ]
  },
  {
   "cell_type": "code",
   "execution_count": 98,
   "metadata": {},
   "outputs": [
    {
     "data": {
      "text/plain": [
       "ER Status\n",
       "Positive    1825\n",
       "Negative     644\n",
       "Name: count, dtype: int64"
      ]
     },
     "execution_count": 98,
     "metadata": {},
     "output_type": "execute_result"
    }
   ],
   "source": [
    "df['ER Status'].value_counts()"
   ]
  },
  {
   "cell_type": "code",
   "execution_count": 99,
   "metadata": {},
   "outputs": [],
   "source": [
    "df['ER Status']=df['ER Status'].map({'Positive':1, 'Negative':0, np.nan:1})"
   ]
  },
  {
   "cell_type": "code",
   "execution_count": 100,
   "metadata": {},
   "outputs": [
    {
     "data": {
      "text/plain": [
       "ER Status\n",
       "1    1865\n",
       "0     644\n",
       "Name: count, dtype: int64"
      ]
     },
     "execution_count": 100,
     "metadata": {},
     "output_type": "execute_result"
    }
   ],
   "source": [
    "df['ER Status'].value_counts()"
   ]
  },
  {
   "cell_type": "code",
   "execution_count": 101,
   "metadata": {},
   "outputs": [],
   "source": [
    "df['ER Status']=df['ER Status'].astype(int)"
   ]
  },
  {
   "cell_type": "code",
   "execution_count": 102,
   "metadata": {},
   "outputs": [
    {
     "name": "stdout",
     "output_type": "stream",
     "text": [
      "<class 'pandas.core.frame.DataFrame'>\n",
      "RangeIndex: 2509 entries, 0 to 2508\n",
      "Data columns (total 33 columns):\n",
      " #   Column                          Non-Null Count  Dtype  \n",
      "---  ------                          --------------  -----  \n",
      " 0   Age at Diagnosis                2509 non-null   float64\n",
      " 1   Type of Breast Surgery          2509 non-null   int64  \n",
      " 2   Cancer Type                     2509 non-null   int64  \n",
      " 3   Cellularity                     2509 non-null   int64  \n",
      " 4   Chemotherapy                    2509 non-null   int64  \n",
      " 5   Cohort                          2509 non-null   float64\n",
      " 6   ER status measured by IHC       2509 non-null   int64  \n",
      " 7   ER Status                       2509 non-null   int64  \n",
      " 8   Neoplasm Histologic Grade       2388 non-null   float64\n",
      " 9   HER2 status measured by SNP6    1980 non-null   object \n",
      " 10  HER2 Status                     1980 non-null   object \n",
      " 11  Tumor Other Histologic Subtype  2374 non-null   object \n",
      " 12  Hormone Therapy                 1980 non-null   object \n",
      " 13  Inferred Menopausal State       1980 non-null   object \n",
      " 14  Integrative Cluster             1980 non-null   object \n",
      " 15  Primary Tumor Laterality        1870 non-null   object \n",
      " 16  Lymph nodes examined positive   2243 non-null   float64\n",
      " 17  Mutation Count                  2357 non-null   float64\n",
      " 18  Nottingham prognostic index     2287 non-null   float64\n",
      " 19  Oncotree Code                   2509 non-null   object \n",
      " 20  Overall Survival (Months)       1981 non-null   float64\n",
      " 21  Overall Survival Status         2509 non-null   int64  \n",
      " 22  PR Status                       1980 non-null   object \n",
      " 23  Radio Therapy                   1980 non-null   object \n",
      " 24  Relapse Free Status (Months)    2388 non-null   float64\n",
      " 25  Relapse Free Status             2488 non-null   object \n",
      " 26  Sex                             2509 non-null   object \n",
      " 27  3-Gene classifier subtype       1764 non-null   object \n",
      " 28  Tumor Size                      2360 non-null   float64\n",
      " 29  Tumor Stage                     1788 non-null   float64\n",
      " 30  Patient's Vital Status          1980 non-null   object \n",
      " 31  Cancer_Type_Detailed            2509 non-null   float64\n",
      " 32  CPam50low_subtype               2509 non-null   float64\n",
      "dtypes: float64(12), int64(7), object(14)\n",
      "memory usage: 647.0+ KB\n"
     ]
    }
   ],
   "source": [
    "df.info()"
   ]
  },
  {
   "cell_type": "code",
   "execution_count": 103,
   "metadata": {},
   "outputs": [
    {
     "data": {
      "text/plain": [
       "array([ 3.,  2.,  1., nan])"
      ]
     },
     "execution_count": 103,
     "metadata": {},
     "output_type": "execute_result"
    }
   ],
   "source": [
    "df['Neoplasm Histologic Grade'].unique()"
   ]
  },
  {
   "cell_type": "code",
   "execution_count": 104,
   "metadata": {},
   "outputs": [],
   "source": [
    "mean3=df['Neoplasm Histologic Grade'].mean()"
   ]
  },
  {
   "cell_type": "code",
   "execution_count": 105,
   "metadata": {},
   "outputs": [
    {
     "data": {
      "text/plain": [
       "np.float64(2.4120603015075375)"
      ]
     },
     "execution_count": 105,
     "metadata": {},
     "output_type": "execute_result"
    }
   ],
   "source": [
    "mean3"
   ]
  },
  {
   "cell_type": "code",
   "execution_count": 106,
   "metadata": {},
   "outputs": [],
   "source": [
    "df['Neoplasm Histologic Grade']=df['Neoplasm Histologic Grade'].fillna(mean2)"
   ]
  },
  {
   "cell_type": "code",
   "execution_count": 107,
   "metadata": {},
   "outputs": [
    {
     "data": {
      "text/plain": [
       "array([3.        , 2.        , 1.        , 2.90032026])"
      ]
     },
     "execution_count": 107,
     "metadata": {},
     "output_type": "execute_result"
    }
   ],
   "source": [
    "df['Neoplasm Histologic Grade'].unique()"
   ]
  },
  {
   "cell_type": "code",
   "execution_count": 108,
   "metadata": {},
   "outputs": [
    {
     "data": {
      "text/plain": [
       "dtype('float64')"
      ]
     },
     "execution_count": 108,
     "metadata": {},
     "output_type": "execute_result"
    }
   ],
   "source": [
    "df['Neoplasm Histologic Grade'].dtype"
   ]
  },
  {
   "cell_type": "code",
   "execution_count": 109,
   "metadata": {},
   "outputs": [
    {
     "data": {
      "text/plain": [
       "array(['Neutral', 'Loss', nan, 'Gain', 'Undef'], dtype=object)"
      ]
     },
     "execution_count": 109,
     "metadata": {},
     "output_type": "execute_result"
    }
   ],
   "source": [
    "df['HER2 status measured by SNP6'].unique()"
   ]
  },
  {
   "cell_type": "code",
   "execution_count": 110,
   "metadata": {},
   "outputs": [
    {
     "data": {
      "text/plain": [
       "HER2 status measured by SNP6\n",
       "Neutral    1436\n",
       "Gain        438\n",
       "Loss        101\n",
       "Undef         5\n",
       "Name: count, dtype: int64"
      ]
     },
     "execution_count": 110,
     "metadata": {},
     "output_type": "execute_result"
    }
   ],
   "source": [
    "df['HER2 status measured by SNP6'].value_counts()"
   ]
  },
  {
   "cell_type": "code",
   "execution_count": 111,
   "metadata": {},
   "outputs": [],
   "source": [
    "df['HER2 status measured by SNP6']=df['HER2 status measured by SNP6'].map({'Neutral':1, 'Loss':2, 'Gain':0, 'Undef':3, np.nan:1})"
   ]
  },
  {
   "cell_type": "code",
   "execution_count": 112,
   "metadata": {},
   "outputs": [
    {
     "data": {
      "text/plain": [
       "array([1, 2, 0, 3])"
      ]
     },
     "execution_count": 112,
     "metadata": {},
     "output_type": "execute_result"
    }
   ],
   "source": [
    "df['HER2 status measured by SNP6'].unique()"
   ]
  },
  {
   "cell_type": "code",
   "execution_count": 113,
   "metadata": {},
   "outputs": [
    {
     "data": {
      "text/plain": [
       "np.int64(0)"
      ]
     },
     "execution_count": 113,
     "metadata": {},
     "output_type": "execute_result"
    }
   ],
   "source": [
    "df['HER2 status measured by SNP6'].isnull().sum()"
   ]
  },
  {
   "cell_type": "code",
   "execution_count": 114,
   "metadata": {},
   "outputs": [],
   "source": [
    "df['HER2 status measured by SNP6']=df['HER2 status measured by SNP6'].astype(int)"
   ]
  },
  {
   "cell_type": "code",
   "execution_count": 115,
   "metadata": {},
   "outputs": [
    {
     "name": "stdout",
     "output_type": "stream",
     "text": [
      "<class 'pandas.core.frame.DataFrame'>\n",
      "RangeIndex: 2509 entries, 0 to 2508\n",
      "Data columns (total 33 columns):\n",
      " #   Column                          Non-Null Count  Dtype  \n",
      "---  ------                          --------------  -----  \n",
      " 0   Age at Diagnosis                2509 non-null   float64\n",
      " 1   Type of Breast Surgery          2509 non-null   int64  \n",
      " 2   Cancer Type                     2509 non-null   int64  \n",
      " 3   Cellularity                     2509 non-null   int64  \n",
      " 4   Chemotherapy                    2509 non-null   int64  \n",
      " 5   Cohort                          2509 non-null   float64\n",
      " 6   ER status measured by IHC       2509 non-null   int64  \n",
      " 7   ER Status                       2509 non-null   int64  \n",
      " 8   Neoplasm Histologic Grade       2509 non-null   float64\n",
      " 9   HER2 status measured by SNP6    2509 non-null   int64  \n",
      " 10  HER2 Status                     1980 non-null   object \n",
      " 11  Tumor Other Histologic Subtype  2374 non-null   object \n",
      " 12  Hormone Therapy                 1980 non-null   object \n",
      " 13  Inferred Menopausal State       1980 non-null   object \n",
      " 14  Integrative Cluster             1980 non-null   object \n",
      " 15  Primary Tumor Laterality        1870 non-null   object \n",
      " 16  Lymph nodes examined positive   2243 non-null   float64\n",
      " 17  Mutation Count                  2357 non-null   float64\n",
      " 18  Nottingham prognostic index     2287 non-null   float64\n",
      " 19  Oncotree Code                   2509 non-null   object \n",
      " 20  Overall Survival (Months)       1981 non-null   float64\n",
      " 21  Overall Survival Status         2509 non-null   int64  \n",
      " 22  PR Status                       1980 non-null   object \n",
      " 23  Radio Therapy                   1980 non-null   object \n",
      " 24  Relapse Free Status (Months)    2388 non-null   float64\n",
      " 25  Relapse Free Status             2488 non-null   object \n",
      " 26  Sex                             2509 non-null   object \n",
      " 27  3-Gene classifier subtype       1764 non-null   object \n",
      " 28  Tumor Size                      2360 non-null   float64\n",
      " 29  Tumor Stage                     1788 non-null   float64\n",
      " 30  Patient's Vital Status          1980 non-null   object \n",
      " 31  Cancer_Type_Detailed            2509 non-null   float64\n",
      " 32  CPam50low_subtype               2509 non-null   float64\n",
      "dtypes: float64(12), int64(8), object(13)\n",
      "memory usage: 647.0+ KB\n"
     ]
    }
   ],
   "source": [
    "df.info()"
   ]
  },
  {
   "cell_type": "code",
   "execution_count": 116,
   "metadata": {},
   "outputs": [
    {
     "data": {
      "text/plain": [
       "array(['Negative', nan, 'Positive'], dtype=object)"
      ]
     },
     "execution_count": 116,
     "metadata": {},
     "output_type": "execute_result"
    }
   ],
   "source": [
    "df['HER2 Status'].unique()"
   ]
  },
  {
   "cell_type": "code",
   "execution_count": 117,
   "metadata": {},
   "outputs": [
    {
     "data": {
      "text/plain": [
       "np.int64(529)"
      ]
     },
     "execution_count": 117,
     "metadata": {},
     "output_type": "execute_result"
    }
   ],
   "source": [
    "df['HER2 Status'].isnull().sum()"
   ]
  },
  {
   "cell_type": "code",
   "execution_count": 118,
   "metadata": {},
   "outputs": [
    {
     "data": {
      "text/plain": [
       "HER2 Status\n",
       "Negative    1733\n",
       "Positive     247\n",
       "Name: count, dtype: int64"
      ]
     },
     "execution_count": 118,
     "metadata": {},
     "output_type": "execute_result"
    }
   ],
   "source": [
    "df['HER2 Status'].value_counts()"
   ]
  },
  {
   "cell_type": "code",
   "execution_count": 119,
   "metadata": {},
   "outputs": [],
   "source": [
    "df['HER2 Status']=df['HER2 Status'].map({'Negative':1, 'Positive':0, np.nan:1})"
   ]
  },
  {
   "cell_type": "code",
   "execution_count": 120,
   "metadata": {},
   "outputs": [
    {
     "data": {
      "text/plain": [
       "array([1, 0])"
      ]
     },
     "execution_count": 120,
     "metadata": {},
     "output_type": "execute_result"
    }
   ],
   "source": [
    "df['HER2 Status'].unique()"
   ]
  },
  {
   "cell_type": "code",
   "execution_count": 121,
   "metadata": {},
   "outputs": [],
   "source": [
    "df['HER2 Status']=df['HER2 Status'].astype(int)"
   ]
  },
  {
   "cell_type": "code",
   "execution_count": 122,
   "metadata": {},
   "outputs": [
    {
     "name": "stdout",
     "output_type": "stream",
     "text": [
      "<class 'pandas.core.frame.DataFrame'>\n",
      "RangeIndex: 2509 entries, 0 to 2508\n",
      "Data columns (total 33 columns):\n",
      " #   Column                          Non-Null Count  Dtype  \n",
      "---  ------                          --------------  -----  \n",
      " 0   Age at Diagnosis                2509 non-null   float64\n",
      " 1   Type of Breast Surgery          2509 non-null   int64  \n",
      " 2   Cancer Type                     2509 non-null   int64  \n",
      " 3   Cellularity                     2509 non-null   int64  \n",
      " 4   Chemotherapy                    2509 non-null   int64  \n",
      " 5   Cohort                          2509 non-null   float64\n",
      " 6   ER status measured by IHC       2509 non-null   int64  \n",
      " 7   ER Status                       2509 non-null   int64  \n",
      " 8   Neoplasm Histologic Grade       2509 non-null   float64\n",
      " 9   HER2 status measured by SNP6    2509 non-null   int64  \n",
      " 10  HER2 Status                     2509 non-null   int64  \n",
      " 11  Tumor Other Histologic Subtype  2374 non-null   object \n",
      " 12  Hormone Therapy                 1980 non-null   object \n",
      " 13  Inferred Menopausal State       1980 non-null   object \n",
      " 14  Integrative Cluster             1980 non-null   object \n",
      " 15  Primary Tumor Laterality        1870 non-null   object \n",
      " 16  Lymph nodes examined positive   2243 non-null   float64\n",
      " 17  Mutation Count                  2357 non-null   float64\n",
      " 18  Nottingham prognostic index     2287 non-null   float64\n",
      " 19  Oncotree Code                   2509 non-null   object \n",
      " 20  Overall Survival (Months)       1981 non-null   float64\n",
      " 21  Overall Survival Status         2509 non-null   int64  \n",
      " 22  PR Status                       1980 non-null   object \n",
      " 23  Radio Therapy                   1980 non-null   object \n",
      " 24  Relapse Free Status (Months)    2388 non-null   float64\n",
      " 25  Relapse Free Status             2488 non-null   object \n",
      " 26  Sex                             2509 non-null   object \n",
      " 27  3-Gene classifier subtype       1764 non-null   object \n",
      " 28  Tumor Size                      2360 non-null   float64\n",
      " 29  Tumor Stage                     1788 non-null   float64\n",
      " 30  Patient's Vital Status          1980 non-null   object \n",
      " 31  Cancer_Type_Detailed            2509 non-null   float64\n",
      " 32  CPam50low_subtype               2509 non-null   float64\n",
      "dtypes: float64(12), int64(9), object(12)\n",
      "memory usage: 647.0+ KB\n"
     ]
    }
   ],
   "source": [
    "df.info()"
   ]
  },
  {
   "cell_type": "code",
   "execution_count": 123,
   "metadata": {},
   "outputs": [
    {
     "data": {
      "text/plain": [
       "array(['Ductal/NST', 'Mixed', 'Lobular', 'Tubular/ cribriform', nan,\n",
       "       'Mucinous', 'Medullary', 'Other', 'Metaplastic'], dtype=object)"
      ]
     },
     "execution_count": 123,
     "metadata": {},
     "output_type": "execute_result"
    }
   ],
   "source": [
    "df['Tumor Other Histologic Subtype'].unique()"
   ]
  },
  {
   "cell_type": "code",
   "execution_count": 124,
   "metadata": {},
   "outputs": [],
   "source": [
    "encoded3=df.groupby('Tumor Other Histologic Subtype')['Overall Survival Status'].mean()"
   ]
  },
  {
   "cell_type": "code",
   "execution_count": 125,
   "metadata": {},
   "outputs": [],
   "source": [
    "df['Tumor_Other_Histologic_Subtype']=df['Tumor Other Histologic Subtype'].map(encoded3)"
   ]
  },
  {
   "cell_type": "code",
   "execution_count": 126,
   "metadata": {},
   "outputs": [
    {
     "data": {
      "text/plain": [
       "array([0.65690608, 0.7063197 , 0.6875    , 0.34782609,        nan,\n",
       "       0.48      , 0.65625   , 0.42857143, 1.        ])"
      ]
     },
     "execution_count": 126,
     "metadata": {},
     "output_type": "execute_result"
    }
   ],
   "source": [
    "df['Tumor_Other_Histologic_Subtype'].unique()"
   ]
  },
  {
   "cell_type": "code",
   "execution_count": 127,
   "metadata": {},
   "outputs": [],
   "source": [
    "mean5=df['Tumor_Other_Histologic_Subtype'].mean()"
   ]
  },
  {
   "cell_type": "code",
   "execution_count": 128,
   "metadata": {},
   "outputs": [
    {
     "data": {
      "text/plain": [
       "np.float64(0.6583824768323505)"
      ]
     },
     "execution_count": 128,
     "metadata": {},
     "output_type": "execute_result"
    }
   ],
   "source": [
    "mean5"
   ]
  },
  {
   "cell_type": "code",
   "execution_count": 129,
   "metadata": {},
   "outputs": [],
   "source": [
    "df['Tumor_Other_Histologic_Subtype']=df['Tumor_Other_Histologic_Subtype'].fillna(mean5)"
   ]
  },
  {
   "cell_type": "code",
   "execution_count": 130,
   "metadata": {},
   "outputs": [
    {
     "data": {
      "text/plain": [
       "array([0.65690608, 0.7063197 , 0.6875    , 0.34782609, 0.65838248,\n",
       "       0.48      , 0.65625   , 0.42857143, 1.        ])"
      ]
     },
     "execution_count": 130,
     "metadata": {},
     "output_type": "execute_result"
    }
   ],
   "source": [
    "df['Tumor_Other_Histologic_Subtype'].unique()"
   ]
  },
  {
   "cell_type": "code",
   "execution_count": 131,
   "metadata": {},
   "outputs": [
    {
     "data": {
      "text/plain": [
       "dtype('float64')"
      ]
     },
     "execution_count": 131,
     "metadata": {},
     "output_type": "execute_result"
    }
   ],
   "source": [
    "df['Tumor_Other_Histologic_Subtype'].dtype"
   ]
  },
  {
   "cell_type": "code",
   "execution_count": 132,
   "metadata": {},
   "outputs": [],
   "source": [
    "df.drop('Tumor Other Histologic Subtype', axis=1, inplace=True)"
   ]
  },
  {
   "cell_type": "code",
   "execution_count": 133,
   "metadata": {},
   "outputs": [
    {
     "name": "stdout",
     "output_type": "stream",
     "text": [
      "<class 'pandas.core.frame.DataFrame'>\n",
      "RangeIndex: 2509 entries, 0 to 2508\n",
      "Data columns (total 33 columns):\n",
      " #   Column                          Non-Null Count  Dtype  \n",
      "---  ------                          --------------  -----  \n",
      " 0   Age at Diagnosis                2509 non-null   float64\n",
      " 1   Type of Breast Surgery          2509 non-null   int64  \n",
      " 2   Cancer Type                     2509 non-null   int64  \n",
      " 3   Cellularity                     2509 non-null   int64  \n",
      " 4   Chemotherapy                    2509 non-null   int64  \n",
      " 5   Cohort                          2509 non-null   float64\n",
      " 6   ER status measured by IHC       2509 non-null   int64  \n",
      " 7   ER Status                       2509 non-null   int64  \n",
      " 8   Neoplasm Histologic Grade       2509 non-null   float64\n",
      " 9   HER2 status measured by SNP6    2509 non-null   int64  \n",
      " 10  HER2 Status                     2509 non-null   int64  \n",
      " 11  Hormone Therapy                 1980 non-null   object \n",
      " 12  Inferred Menopausal State       1980 non-null   object \n",
      " 13  Integrative Cluster             1980 non-null   object \n",
      " 14  Primary Tumor Laterality        1870 non-null   object \n",
      " 15  Lymph nodes examined positive   2243 non-null   float64\n",
      " 16  Mutation Count                  2357 non-null   float64\n",
      " 17  Nottingham prognostic index     2287 non-null   float64\n",
      " 18  Oncotree Code                   2509 non-null   object \n",
      " 19  Overall Survival (Months)       1981 non-null   float64\n",
      " 20  Overall Survival Status         2509 non-null   int64  \n",
      " 21  PR Status                       1980 non-null   object \n",
      " 22  Radio Therapy                   1980 non-null   object \n",
      " 23  Relapse Free Status (Months)    2388 non-null   float64\n",
      " 24  Relapse Free Status             2488 non-null   object \n",
      " 25  Sex                             2509 non-null   object \n",
      " 26  3-Gene classifier subtype       1764 non-null   object \n",
      " 27  Tumor Size                      2360 non-null   float64\n",
      " 28  Tumor Stage                     1788 non-null   float64\n",
      " 29  Patient's Vital Status          1980 non-null   object \n",
      " 30  Cancer_Type_Detailed            2509 non-null   float64\n",
      " 31  CPam50low_subtype               2509 non-null   float64\n",
      " 32  Tumor_Other_Histologic_Subtype  2509 non-null   float64\n",
      "dtypes: float64(13), int64(9), object(11)\n",
      "memory usage: 647.0+ KB\n"
     ]
    }
   ],
   "source": [
    "df.info()"
   ]
  },
  {
   "cell_type": "code",
   "execution_count": 134,
   "metadata": {},
   "outputs": [
    {
     "data": {
      "text/plain": [
       "array(['Yes', 'No', nan], dtype=object)"
      ]
     },
     "execution_count": 134,
     "metadata": {},
     "output_type": "execute_result"
    }
   ],
   "source": [
    "df['Hormone Therapy'].unique()"
   ]
  },
  {
   "cell_type": "code",
   "execution_count": 135,
   "metadata": {},
   "outputs": [
    {
     "data": {
      "text/plain": [
       "Hormone Therapy\n",
       "Yes    1216\n",
       "No      764\n",
       "Name: count, dtype: int64"
      ]
     },
     "execution_count": 135,
     "metadata": {},
     "output_type": "execute_result"
    }
   ],
   "source": [
    "df['Hormone Therapy'].value_counts()"
   ]
  },
  {
   "cell_type": "code",
   "execution_count": 136,
   "metadata": {},
   "outputs": [
    {
     "data": {
      "text/plain": [
       "np.int64(529)"
      ]
     },
     "execution_count": 136,
     "metadata": {},
     "output_type": "execute_result"
    }
   ],
   "source": [
    "df['Hormone Therapy'].isnull().sum()"
   ]
  },
  {
   "cell_type": "code",
   "execution_count": 137,
   "metadata": {},
   "outputs": [],
   "source": [
    "df['Hormone Therapy']=df['Hormone Therapy'].map({'Yes':1, 'No':0, np.nan:1})"
   ]
  },
  {
   "cell_type": "code",
   "execution_count": 138,
   "metadata": {},
   "outputs": [
    {
     "data": {
      "text/plain": [
       "array([1, 0])"
      ]
     },
     "execution_count": 138,
     "metadata": {},
     "output_type": "execute_result"
    }
   ],
   "source": [
    "df['Hormone Therapy'].unique()"
   ]
  },
  {
   "cell_type": "code",
   "execution_count": 139,
   "metadata": {},
   "outputs": [
    {
     "data": {
      "text/plain": [
       "dtype('int64')"
      ]
     },
     "execution_count": 139,
     "metadata": {},
     "output_type": "execute_result"
    }
   ],
   "source": [
    "df['Hormone Therapy'].dtype"
   ]
  },
  {
   "cell_type": "code",
   "execution_count": 140,
   "metadata": {},
   "outputs": [
    {
     "name": "stdout",
     "output_type": "stream",
     "text": [
      "<class 'pandas.core.frame.DataFrame'>\n",
      "RangeIndex: 2509 entries, 0 to 2508\n",
      "Data columns (total 33 columns):\n",
      " #   Column                          Non-Null Count  Dtype  \n",
      "---  ------                          --------------  -----  \n",
      " 0   Age at Diagnosis                2509 non-null   float64\n",
      " 1   Type of Breast Surgery          2509 non-null   int64  \n",
      " 2   Cancer Type                     2509 non-null   int64  \n",
      " 3   Cellularity                     2509 non-null   int64  \n",
      " 4   Chemotherapy                    2509 non-null   int64  \n",
      " 5   Cohort                          2509 non-null   float64\n",
      " 6   ER status measured by IHC       2509 non-null   int64  \n",
      " 7   ER Status                       2509 non-null   int64  \n",
      " 8   Neoplasm Histologic Grade       2509 non-null   float64\n",
      " 9   HER2 status measured by SNP6    2509 non-null   int64  \n",
      " 10  HER2 Status                     2509 non-null   int64  \n",
      " 11  Hormone Therapy                 2509 non-null   int64  \n",
      " 12  Inferred Menopausal State       1980 non-null   object \n",
      " 13  Integrative Cluster             1980 non-null   object \n",
      " 14  Primary Tumor Laterality        1870 non-null   object \n",
      " 15  Lymph nodes examined positive   2243 non-null   float64\n",
      " 16  Mutation Count                  2357 non-null   float64\n",
      " 17  Nottingham prognostic index     2287 non-null   float64\n",
      " 18  Oncotree Code                   2509 non-null   object \n",
      " 19  Overall Survival (Months)       1981 non-null   float64\n",
      " 20  Overall Survival Status         2509 non-null   int64  \n",
      " 21  PR Status                       1980 non-null   object \n",
      " 22  Radio Therapy                   1980 non-null   object \n",
      " 23  Relapse Free Status (Months)    2388 non-null   float64\n",
      " 24  Relapse Free Status             2488 non-null   object \n",
      " 25  Sex                             2509 non-null   object \n",
      " 26  3-Gene classifier subtype       1764 non-null   object \n",
      " 27  Tumor Size                      2360 non-null   float64\n",
      " 28  Tumor Stage                     1788 non-null   float64\n",
      " 29  Patient's Vital Status          1980 non-null   object \n",
      " 30  Cancer_Type_Detailed            2509 non-null   float64\n",
      " 31  CPam50low_subtype               2509 non-null   float64\n",
      " 32  Tumor_Other_Histologic_Subtype  2509 non-null   float64\n",
      "dtypes: float64(13), int64(10), object(10)\n",
      "memory usage: 647.0+ KB\n"
     ]
    }
   ],
   "source": [
    "df.info()"
   ]
  },
  {
   "cell_type": "code",
   "execution_count": 141,
   "metadata": {},
   "outputs": [
    {
     "data": {
      "text/plain": [
       "array(['Post', 'Pre', nan], dtype=object)"
      ]
     },
     "execution_count": 141,
     "metadata": {},
     "output_type": "execute_result"
    }
   ],
   "source": [
    "df['Inferred Menopausal State'].unique()"
   ]
  },
  {
   "cell_type": "code",
   "execution_count": 142,
   "metadata": {},
   "outputs": [
    {
     "data": {
      "text/plain": [
       "Inferred Menopausal State\n",
       "Post    1556\n",
       "Pre      424\n",
       "Name: count, dtype: int64"
      ]
     },
     "execution_count": 142,
     "metadata": {},
     "output_type": "execute_result"
    }
   ],
   "source": [
    "df['Inferred Menopausal State'].value_counts()"
   ]
  },
  {
   "cell_type": "code",
   "execution_count": 146,
   "metadata": {},
   "outputs": [],
   "source": [
    "df['Inferred Menopausal State']=df['Inferred Menopausal State'].map({'Post':1, 'Pre':0, np.nan:1})"
   ]
  },
  {
   "cell_type": "code",
   "execution_count": 147,
   "metadata": {},
   "outputs": [
    {
     "data": {
      "text/plain": [
       "array([1, 0])"
      ]
     },
     "execution_count": 147,
     "metadata": {},
     "output_type": "execute_result"
    }
   ],
   "source": [
    "df['Inferred Menopausal State'].unique()"
   ]
  },
  {
   "cell_type": "code",
   "execution_count": 148,
   "metadata": {},
   "outputs": [
    {
     "data": {
      "text/plain": [
       "dtype('int64')"
      ]
     },
     "execution_count": 148,
     "metadata": {},
     "output_type": "execute_result"
    }
   ],
   "source": [
    "df['Inferred Menopausal State'].dtype"
   ]
  },
  {
   "cell_type": "code",
   "execution_count": 149,
   "metadata": {},
   "outputs": [],
   "source": [
    "df.to_csv('Breast Cancer METABRIC_half.csv',index=False)"
   ]
  },
  {
   "cell_type": "code",
   "execution_count": null,
   "metadata": {},
   "outputs": [],
   "source": []
  },
  {
   "cell_type": "code",
   "execution_count": null,
   "metadata": {},
   "outputs": [],
   "source": []
  },
  {
   "cell_type": "code",
   "execution_count": null,
   "metadata": {},
   "outputs": [],
   "source": []
  },
  {
   "cell_type": "code",
   "execution_count": null,
   "metadata": {},
   "outputs": [],
   "source": []
  }
 ],
 "metadata": {
  "kernelspec": {
   "display_name": "Python 3",
   "language": "python",
   "name": "python3"
  },
  "language_info": {
   "codemirror_mode": {
    "name": "ipython",
    "version": 3
   },
   "file_extension": ".py",
   "mimetype": "text/x-python",
   "name": "python",
   "nbconvert_exporter": "python",
   "pygments_lexer": "ipython3",
   "version": "3.12.0"
  }
 },
 "nbformat": 4,
 "nbformat_minor": 2
}
